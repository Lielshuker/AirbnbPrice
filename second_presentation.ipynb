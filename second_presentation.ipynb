{
 "cells": [
  {
   "cell_type": "markdown",
   "id": "e6eadc0e",
   "metadata": {},
   "source": [
    "# Where were we?\n"
   ]
  },
  {
   "cell_type": "markdown",
   "id": "f62efc35",
   "metadata": {},
   "source": [
    "- Airbnb data - predicting asset's price.\n",
    "\n",
    "- Last results:  \n",
    "    Mean Absolute Error (Σ|y-pred|/n): 0.315  \n",
    "    Mean Squared Error (Σ(|y-pred|/y)/n): 0.182  \n",
    "    Root Mean Squared Error (sqrt(Σ(y-pred)^2/n)): 0.427  "
   ]
  },
  {
   "cell_type": "markdown",
   "id": "9019fb6d",
   "metadata": {},
   "source": [
    "# What we worked on since:"
   ]
  },
  {
   "cell_type": "markdown",
   "id": "d6d111b8",
   "metadata": {},
   "source": [
    "1. Handled previously ignored dates columns  \n",
    "2.  \n",
    "3.  \n",
    "4.  "
   ]
  },
  {
   "cell_type": "code",
   "execution_count": 1,
   "id": "5e082449",
   "metadata": {},
   "outputs": [],
   "source": [
    "import datetime\n",
    "import pandas as pd\n",
    "import numpy as np\n",
    "import sklearn\n",
    "import statsmodels.api as sm\n",
    "from sklearn.model_selection import train_test_split\n",
    "from sklearn import linear_model\n",
    "import seaborn as sns\n",
    "from sklearn.metrics import r2_score, mean_absolute_percentage_error, mean_absolute_error, mean_squared_error"
   ]
  },
  {
   "cell_type": "code",
   "execution_count": 2,
   "id": "33735242",
   "metadata": {},
   "outputs": [],
   "source": [
    "data = pd.read_csv('dataset/train.csv')"
   ]
  },
  {
   "cell_type": "markdown",
   "id": "af9a874e",
   "metadata": {},
   "source": [
    "## 1 Handled previously ignored dates columns:"
   ]
  },
  {
   "cell_type": "markdown",
   "id": "ca5edbc7",
   "metadata": {},
   "source": [
    "Although those columns are dates, they are not defining a time series data sets.   \n",
    "They should be handled in their own specific way. \n",
    "We chose to convert each date cell into a numeric type that represents years from the given date till today."
   ]
  },
  {
   "cell_type": "code",
   "execution_count": 3,
   "id": "9874528f",
   "metadata": {},
   "outputs": [],
   "source": [
    "# host_since\n",
    "data.host_since = pd.to_datetime(data.host_since, format='%Y-%m-%d')\n",
    "data['host_since_in_years'] = datetime.datetime.now() - data['host_since']\n",
    "data['host_since_in_years'] = data['host_since_in_years'].apply(lambda x: x.days)\n",
    "data['host_since_in_years'] = data['host_since_in_years'].apply(lambda x: x/365)\n",
    "data.host_since_in_years = pd.to_numeric(data.host_since_in_years)\n",
    "data = data.drop('host_since', axis=1)\n",
    "\n",
    "# first_review\n",
    "data.first_review = pd.to_datetime(data.first_review, format='%Y-%m-%d')\n",
    "data['first_review_in_years'] = datetime.datetime.now() - data['first_review']\n",
    "data['first_review_in_years'] = data['first_review_in_years'].apply(lambda x: x.days)\n",
    "data['first_review_in_years'] = data['first_review_in_years'].apply(lambda x: x/365)\n",
    "data.first_review_in_years = pd.to_numeric(data.first_review_in_years)\n",
    "data = data.drop('first_review', axis=1)\n",
    "\n",
    "# last_review\n",
    "data.last_review = pd.to_datetime(data.last_review, format='%Y-%m-%d')\n",
    "data['last_review_in_years'] = datetime.datetime.now() - data['last_review']\n",
    "data['last_review_in_years'] = data['last_review_in_years'].apply(lambda x: x.days)\n",
    "data['last_review_in_years'] = data['last_review_in_years'].apply(lambda x: x/365)\n",
    "data.last_review_in_years = pd.to_numeric(data.last_review_in_years)\n",
    "data = data.drop('last_review', axis=1)"
   ]
  },
  {
   "cell_type": "code",
   "execution_count": 4,
   "id": "337d9bdf",
   "metadata": {},
   "outputs": [],
   "source": [
    "train, test = train_test_split(data, test_size=0.2)"
   ]
  },
  {
   "cell_type": "code",
   "execution_count": 5,
   "id": "944e71d4",
   "metadata": {},
   "outputs": [
    {
     "data": {
      "text/html": [
       "<div>\n",
       "<style scoped>\n",
       "    .dataframe tbody tr th:only-of-type {\n",
       "        vertical-align: middle;\n",
       "    }\n",
       "\n",
       "    .dataframe tbody tr th {\n",
       "        vertical-align: top;\n",
       "    }\n",
       "\n",
       "    .dataframe thead th {\n",
       "        text-align: right;\n",
       "    }\n",
       "</style>\n",
       "<table border=\"1\" class=\"dataframe\">\n",
       "  <thead>\n",
       "    <tr style=\"text-align: right;\">\n",
       "      <th></th>\n",
       "      <th>log_price</th>\n",
       "      <th>host_since_in_years</th>\n",
       "    </tr>\n",
       "  </thead>\n",
       "  <tbody>\n",
       "    <tr>\n",
       "      <th>log_price</th>\n",
       "      <td>1.000000</td>\n",
       "      <td>0.075633</td>\n",
       "    </tr>\n",
       "    <tr>\n",
       "      <th>host_since_in_years</th>\n",
       "      <td>0.075633</td>\n",
       "      <td>1.000000</td>\n",
       "    </tr>\n",
       "  </tbody>\n",
       "</table>\n",
       "</div>"
      ],
      "text/plain": [
       "                     log_price  host_since_in_years\n",
       "log_price             1.000000             0.075633\n",
       "host_since_in_years   0.075633             1.000000"
      ]
     },
     "execution_count": 5,
     "metadata": {},
     "output_type": "execute_result"
    }
   ],
   "source": [
    "train[['log_price','host_since_in_years']].corr()"
   ]
  },
  {
   "cell_type": "code",
   "execution_count": 6,
   "id": "d161e686",
   "metadata": {},
   "outputs": [
    {
     "data": {
      "text/html": [
       "<div>\n",
       "<style scoped>\n",
       "    .dataframe tbody tr th:only-of-type {\n",
       "        vertical-align: middle;\n",
       "    }\n",
       "\n",
       "    .dataframe tbody tr th {\n",
       "        vertical-align: top;\n",
       "    }\n",
       "\n",
       "    .dataframe thead th {\n",
       "        text-align: right;\n",
       "    }\n",
       "</style>\n",
       "<table border=\"1\" class=\"dataframe\">\n",
       "  <thead>\n",
       "    <tr style=\"text-align: right;\">\n",
       "      <th></th>\n",
       "      <th>log_price</th>\n",
       "      <th>first_review_in_years</th>\n",
       "    </tr>\n",
       "  </thead>\n",
       "  <tbody>\n",
       "    <tr>\n",
       "      <th>log_price</th>\n",
       "      <td>1.000000</td>\n",
       "      <td>0.076777</td>\n",
       "    </tr>\n",
       "    <tr>\n",
       "      <th>first_review_in_years</th>\n",
       "      <td>0.076777</td>\n",
       "      <td>1.000000</td>\n",
       "    </tr>\n",
       "  </tbody>\n",
       "</table>\n",
       "</div>"
      ],
      "text/plain": [
       "                       log_price  first_review_in_years\n",
       "log_price               1.000000               0.076777\n",
       "first_review_in_years   0.076777               1.000000"
      ]
     },
     "execution_count": 6,
     "metadata": {},
     "output_type": "execute_result"
    }
   ],
   "source": [
    "train[['log_price','first_review_in_years']].corr()"
   ]
  },
  {
   "cell_type": "code",
   "execution_count": 7,
   "id": "0d1a24d7",
   "metadata": {},
   "outputs": [
    {
     "data": {
      "text/html": [
       "<div>\n",
       "<style scoped>\n",
       "    .dataframe tbody tr th:only-of-type {\n",
       "        vertical-align: middle;\n",
       "    }\n",
       "\n",
       "    .dataframe tbody tr th {\n",
       "        vertical-align: top;\n",
       "    }\n",
       "\n",
       "    .dataframe thead th {\n",
       "        text-align: right;\n",
       "    }\n",
       "</style>\n",
       "<table border=\"1\" class=\"dataframe\">\n",
       "  <thead>\n",
       "    <tr style=\"text-align: right;\">\n",
       "      <th></th>\n",
       "      <th>log_price</th>\n",
       "      <th>last_review_in_years</th>\n",
       "    </tr>\n",
       "  </thead>\n",
       "  <tbody>\n",
       "    <tr>\n",
       "      <th>log_price</th>\n",
       "      <td>1.000000</td>\n",
       "      <td>0.017726</td>\n",
       "    </tr>\n",
       "    <tr>\n",
       "      <th>last_review_in_years</th>\n",
       "      <td>0.017726</td>\n",
       "      <td>1.000000</td>\n",
       "    </tr>\n",
       "  </tbody>\n",
       "</table>\n",
       "</div>"
      ],
      "text/plain": [
       "                      log_price  last_review_in_years\n",
       "log_price              1.000000              0.017726\n",
       "last_review_in_years   0.017726              1.000000"
      ]
     },
     "execution_count": 7,
     "metadata": {},
     "output_type": "execute_result"
    }
   ],
   "source": [
    "train[['log_price','last_review_in_years']].corr()"
   ]
  },
  {
   "cell_type": "code",
   "execution_count": 8,
   "id": "ceb9fed3",
   "metadata": {},
   "outputs": [],
   "source": [
    "binary_variables = ['cleaning_fee', 'host_has_profile_pic', 'host_identity_verified', 'instant_bookable']\n",
    "\n",
    "categorical_variables = ['property_type', 'room_type', 'bed_type', 'cancellation_policy', 'city',\n",
    "                         'neighbourhood', 'amenities']\n",
    "\n",
    "numeric_variables = ['log_price', 'accommodates', 'bathrooms', 'host_response_rate', 'latitude', 'longitude',\n",
    "                     'number_of_reviews', 'review_scores_rating', 'bedrooms', 'beds', 'host_since_in_years', 'first_review_in_years', 'last_review_in_years']  \n",
    "\n",
    "column_to_drop = ['id', 'name', 'thumbnail_url', 'zipcode', 'description']\n",
    "\n",
    "columns = {'binary_variables': binary_variables, 'categorical_variables': categorical_variables,\n",
    "           'numeric_variables': numeric_variables, 'column_to_drop': column_to_drop, 'binned_variables': []}"
   ]
  },
  {
   "cell_type": "markdown",
   "id": "9fa75be0",
   "metadata": {},
   "source": [
    "old code for running test prediction:"
   ]
  },
  {
   "cell_type": "code",
   "execution_count": 9,
   "id": "81466eba",
   "metadata": {},
   "outputs": [],
   "source": [
    "for column in columns['column_to_drop']:\n",
    "    train = train.drop(column, axis=1)\n",
    "    test = test.drop(column, axis=1)"
   ]
  },
  {
   "cell_type": "code",
   "execution_count": 10,
   "id": "2183bfa6",
   "metadata": {},
   "outputs": [],
   "source": [
    "for column in columns['binary_variables']:\n",
    "    train[column] = train[column].apply(lambda x: True if x == 'TRUE' or x == 't' else False)\n",
    "    test[column] = test[column].apply(lambda x: True if x == 'TRUE' or x == 't' else False)"
   ]
  },
  {
   "cell_type": "code",
   "execution_count": 11,
   "id": "6cf8a9b7",
   "metadata": {},
   "outputs": [],
   "source": [
    "train['host_response_rate'] = train['host_response_rate'].str.rstrip('%').astype('float') / 100.0\n",
    "test['host_response_rate'] = test['host_response_rate'].str.rstrip('%').astype('float') / 100.0"
   ]
  },
  {
   "cell_type": "code",
   "execution_count": 12,
   "id": "f150af3c",
   "metadata": {},
   "outputs": [],
   "source": [
    "for column in columns['numeric_variables']:\n",
    "    train[column] = train[column].astype(float)\n",
    "    test[column] = test[column].astype(float)"
   ]
  },
  {
   "cell_type": "code",
   "execution_count": 13,
   "id": "c35a4f58",
   "metadata": {},
   "outputs": [],
   "source": [
    "null_columns = []\n",
    "for column in columns['binary_variables'] + columns['categorical_variables'] + columns['numeric_variables']:\n",
    "    if train[column].isnull().sum():\n",
    "        null_columns.append(column)\n",
    "    if test[column].isnull().sum():\n",
    "        null_columns.append(column)"
   ]
  },
  {
   "cell_type": "code",
   "execution_count": 14,
   "id": "3d096734",
   "metadata": {},
   "outputs": [],
   "source": [
    "train_with_most_frequent_values = train.copy()\n",
    "test_with_most_frequent_values = test.copy()\n",
    "for column in null_columns:\n",
    "    val = train_with_most_frequent_values[column].value_counts().index[0]\n",
    "    train_with_most_frequent_values[column] = train_with_most_frequent_values[column].fillna(val)\n",
    "    test_with_most_frequent_values[column] = test_with_most_frequent_values[column].fillna(val)\n",
    "\n",
    "train = train_with_most_frequent_values\n",
    "test = test_with_most_frequent_values"
   ]
  },
  {
   "cell_type": "code",
   "execution_count": 15,
   "id": "b96426df",
   "metadata": {},
   "outputs": [],
   "source": [
    "train = train.reset_index()\n",
    "test = test.reset_index()"
   ]
  },
  {
   "cell_type": "code",
   "execution_count": 16,
   "id": "7dbf6283",
   "metadata": {},
   "outputs": [],
   "source": [
    "def collect_amenities(data, columns_dict):\n",
    "    chars_to_remove = '\"{}'\n",
    "    amenities_set = set()\n",
    "    for line in data['amenities']:\n",
    "        amenities = line.split(',')\n",
    "        for obj in amenities:\n",
    "            for char in chars_to_remove:\n",
    "                obj = obj.replace(char, \"\")\n",
    "            if \"translation missing\" not in obj and obj != '':\n",
    "                amenities_set.add(obj)\n",
    "    for amenity in amenities_set:\n",
    "        columns_dict['binary_variables'].append(amenity)\n",
    "    return list(amenities_set)\n",
    "\n",
    "\n",
    "def create_amenities_array(amenities_list, data):\n",
    "    amenities_array = []\n",
    "    for index, row in data.iterrows():\n",
    "        array = np.zeros(shape=(len(amenities_list)))\n",
    "        row_amen = data['amenities'][index].split(',')\n",
    "        for amen in row_amen:\n",
    "            item = amen.replace('\"', '').replace('}', '').replace('{', '')\n",
    "            if item in amenities_list:\n",
    "                res = amenities_list.index(item)\n",
    "                array[res] = 1\n",
    "        amenities_array.append(array.tolist())\n",
    "\n",
    "    amenities_df = pd.DataFrame(amenities_array, columns=amenities_list)\n",
    "    return amenities_df\n",
    "\n",
    "\n",
    "# converting amenities column to binary columns and updating columns_dict\n",
    "def create_amenities_cols(data, amenities_set):\n",
    "    amenities_array = create_amenities_array(amenities_set, data)\n",
    "\n",
    "    data = data.drop(['amenities'], axis=1)\n",
    "    data = pd.concat([data, amenities_array], axis=1)\n",
    "\n",
    "    return data"
   ]
  },
  {
   "cell_type": "code",
   "execution_count": 17,
   "id": "82112de8",
   "metadata": {},
   "outputs": [],
   "source": [
    "amenities_list = collect_amenities(train, columns)\n",
    "train = create_amenities_cols(train, amenities_list)\n",
    "test = create_amenities_cols(test, amenities_list)\n",
    "columns['categorical_variables'].remove('amenities')"
   ]
  },
  {
   "cell_type": "code",
   "execution_count": 18,
   "id": "2af3a2af",
   "metadata": {},
   "outputs": [],
   "source": [
    "top_neighbourhoods = train['neighbourhood'].value_counts().head(50).keys()\n",
    "for index, row in train.iterrows():\n",
    "    if row['neighbourhood'] not in top_neighbourhoods:\n",
    "        train.at[index,'neighbourhood'] = 'other'\n",
    "for index, row in test.iterrows():\n",
    "    if row['neighbourhood'] not in top_neighbourhoods:\n",
    "        test.at[index,'neighbourhood'] = 'other'"
   ]
  },
  {
   "cell_type": "code",
   "execution_count": 19,
   "id": "7919f037",
   "metadata": {},
   "outputs": [],
   "source": [
    "# we leave the target feature as is\n",
    "oh_train = train['log_price']\n",
    "oh_test = test['log_price']\n",
    "\n",
    "# now adding the one hot encoded data\n",
    "for variable in columns['binned_variables']+columns['categorical_variables']:\n",
    "    onehot_train_col = pd.get_dummies(train[variable], prefix=variable)\n",
    "    oh_train = pd.concat([oh_train, onehot_train_col], axis=1)\n",
    "\n",
    "    onehot_test_col = pd.get_dummies(test[variable], prefix=variable)\n",
    "    oh_test = pd.concat([oh_test, onehot_test_col], axis=1)"
   ]
  },
  {
   "cell_type": "code",
   "execution_count": 20,
   "id": "13677e16",
   "metadata": {},
   "outputs": [],
   "source": [
    "for col in columns['binary_variables']:\n",
    "    train[col] = train[col].replace(True, 1)\n",
    "    train[col] =train[col].replace(False, 0)\n",
    "    oh_train = pd.concat([oh_train, train[col]], axis=1)\n",
    "\n",
    "    test[col] = test[col].replace(True, 1)\n",
    "    test[col] = test[col].replace(False, 0)\n",
    "    oh_test = pd.concat([oh_test, test[col]], axis=1)"
   ]
  },
  {
   "cell_type": "code",
   "execution_count": 21,
   "id": "9d7e9f5e",
   "metadata": {},
   "outputs": [],
   "source": [
    "for col in columns['numeric_variables']:\n",
    "    if col != 'log_price':\n",
    "        oh_train = pd.concat([oh_train, train[col]], axis=1)\n",
    "\n",
    "        oh_test = pd.concat([oh_test, test[col]], axis=1)"
   ]
  },
  {
   "cell_type": "code",
   "execution_count": 22,
   "id": "f89708a2",
   "metadata": {},
   "outputs": [
    {
     "name": "stderr",
     "output_type": "stream",
     "text": [
      "/tmp/ipykernel_15139/66377348.py:6: PerformanceWarning: DataFrame is highly fragmented.  This is usually the result of calling `frame.insert` many times, which has poor performance.  Consider joining all columns at once using pd.concat(axis=1) instead.  To get a de-fragmented frame, use `newframe = frame.copy()`\n",
      "  oh_test[col] = 0\n"
     ]
    }
   ],
   "source": [
    "add_to_test = list(set(oh_train.columns) - set(oh_test.columns))\n",
    "add_to_train = list(set(oh_test.columns) - set(oh_train.columns))\n",
    "for col in add_to_train:\n",
    "    oh_train[col] = 0\n",
    "for col in add_to_test:\n",
    "    oh_test[col] = 0\n",
    "\n",
    "oh_test = oh_test[oh_train.columns]"
   ]
  },
  {
   "cell_type": "code",
   "execution_count": 23,
   "id": "0a383a3d",
   "metadata": {},
   "outputs": [],
   "source": [
    "# oh_train = oh_train.drop('host_since_in_years', axis=1)\n",
    "# oh_test = oh_test.drop('host_since_in_years', axis=1)\n",
    "\n",
    "# oh_train = oh_train.drop('first_review_in_years', axis=1)\n",
    "# oh_test = oh_test.drop('first_review_in_years', axis=1)\n",
    "\n",
    "# oh_train = oh_train.drop('last_review_in_years', axis=1)\n",
    "# oh_test = oh_test.drop('last_review_in_years', axis=1)"
   ]
  },
  {
   "cell_type": "code",
   "execution_count": 24,
   "id": "b35025c3",
   "metadata": {},
   "outputs": [
    {
     "name": "stdout",
     "output_type": "stream",
     "text": [
      "LinearRegression()\n"
     ]
    }
   ],
   "source": [
    "linear_regression = linear_model.LinearRegression()\n",
    "# separate labels from data=\n",
    "train_class = oh_train['log_price']\n",
    "oh_train_data = oh_train.drop('log_price', axis=1)\n",
    "# train the model:\n",
    "linear_regression.fit(oh_train_data, train_class)\n",
    "print(linear_regression)"
   ]
  },
  {
   "cell_type": "code",
   "execution_count": 25,
   "id": "da93f3f8",
   "metadata": {},
   "outputs": [],
   "source": [
    "train_y = oh_train['log_price'].values\n",
    "train_x = oh_train.drop('log_price', axis=1)\n",
    "test_y = oh_test['log_price'].values\n",
    "test_x = oh_test.drop('log_price', axis=1)\n",
    "\n",
    "prediction_test = linear_regression.predict(test_x)"
   ]
  },
  {
   "cell_type": "code",
   "execution_count": 26,
   "id": "8437ec1a",
   "metadata": {},
   "outputs": [
    {
     "name": "stdout",
     "output_type": "stream",
     "text": [
      "Mean Absolute Error (Σ|y-pred|/n): 0.317\n",
      "Mean Squared Error (Σ(|y-pred|/y)/n): 0.185\n",
      "Root Mean Squared Error (sqrt(Σ(y-pred)^2/n)): 0.430\n"
     ]
    }
   ],
   "source": [
    "print(\"Mean Absolute Error (Σ|y-pred|/n):\", \"{:,.3f}\".format(mean_absolute_error(test_y, prediction_test)))\n",
    "print(\"Mean Squared Error (Σ(|y-pred|/y)/n):\",\n",
    "      \"{:,.3f}\".format(mean_squared_error(test_y, prediction_test)))\n",
    "print(\"Root Mean Squared Error (sqrt(Σ(y-pred)^2/n)):\", \"{:,.3f}\".\n",
    "      format(np.sqrt(mean_squared_error(test_y, prediction_test))))"
   ]
  },
  {
   "cell_type": "markdown",
   "id": "18067524",
   "metadata": {},
   "source": [
    "### This addition did not cause a significant change.\n",
    "- should we drop these columns?\n",
    "- should we think of a better use of the originals columns?\n",
    "- will a more sophisticated model be more influenced by these columns?"
   ]
  },
  {
   "cell_type": "code",
   "execution_count": null,
   "id": "28329108",
   "metadata": {},
   "outputs": [],
   "source": []
  }
 ],
 "metadata": {
  "kernelspec": {
   "display_name": "Python 3 (ipykernel)",
   "language": "python",
   "name": "python3"
  },
  "language_info": {
   "codemirror_mode": {
    "name": "ipython",
    "version": 3
   },
   "file_extension": ".py",
   "mimetype": "text/x-python",
   "name": "python",
   "nbconvert_exporter": "python",
   "pygments_lexer": "ipython3",
   "version": "3.9.7"
  }
 },
 "nbformat": 4,
 "nbformat_minor": 5
}
