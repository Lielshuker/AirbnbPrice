{
 "cells": [
  {
   "cell_type": "markdown",
   "id": "86c5bda3",
   "metadata": {},
   "source": [
    "# Where were we?\n"
   ]
  },
  {
   "cell_type": "markdown",
   "id": "6f186941",
   "metadata": {},
   "source": [
    "- Airbnb data - predicting asset's price.\n",
    "\n",
    "- Last results:  \n",
    "    Mean Absolute Error (Σ|y-pred|/n): 0.315  \n",
    "    Mean Squared Error (Σ(|y-pred|/y)/n): 0.182  \n",
    "    Root Mean Squared Error (sqrt(Σ(y-pred)^2/n)): 0.427  "
   ]
  },
  {
   "cell_type": "markdown",
   "id": "7f9a6611",
   "metadata": {},
   "source": [
    "# What we worked on since last time:"
   ]
  },
  {
   "cell_type": "markdown",
   "id": "30a2a7b8",
   "metadata": {},
   "source": [
    "1. Handled previously ignored dates columns  \n",
    "2. Swithced from linear regression model into xgboost \n",
    "3. Better filling of nan values\n",
    "4.  "
   ]
  },
  {
   "cell_type": "code",
   "execution_count": 45,
   "id": "64a4a7f5",
   "metadata": {},
   "outputs": [],
   "source": [
    "import datetime\n",
    "import pandas as pd\n",
    "import numpy as np\n",
    "import sklearn\n",
    "import statsmodels.api as sm\n",
    "from sklearn.model_selection import train_test_split\n",
    "from sklearn import linear_model\n",
    "import seaborn as sns\n",
    "from sklearn.metrics import r2_score, mean_absolute_percentage_error, mean_absolute_error, mean_squared_error\n",
    "import xgboost as xg\n",
    "import matplotlib.pyplot as plt\n",
    "import shutil\n",
    "import requests\n",
    "import math"
   ]
  },
  {
   "cell_type": "code",
   "execution_count": 46,
   "id": "9a6ccad9",
   "metadata": {},
   "outputs": [],
   "source": [
    "data = pd.read_csv('dataset/train.csv')"
   ]
  },
  {
   "cell_type": "markdown",
   "id": "066b471b",
   "metadata": {},
   "source": [
    "The following cell will serve us for fixed partition to train and test during the following examinations:"
   ]
  },
  {
   "cell_type": "code",
   "execution_count": 47,
   "outputs": [
    {
     "name": "stdout",
     "output_type": "stream",
     "text": [
      "zero values 4\n",
      "zero values 0\n"
     ]
    }
   ],
   "source": [
    "count = (data['beds'] == 0).sum()\n",
    "print('zero values', count)\n",
    "data = data[data['beds'] > 0]\n",
    "count = (data['beds'] == 0).sum()\n",
    "print('zero values', count)"
   ],
   "metadata": {
    "collapsed": false,
    "pycharm": {
     "name": "#%%\n"
    }
   }
  },
  {
   "cell_type": "code",
   "execution_count": 48,
   "id": "4797d30c",
   "metadata": {},
   "outputs": [],
   "source": [
    "data['split'] = np.random.randn(data.shape[0], 1)\n",
    "msk = np.random.rand(len(data)) <= 0.8\n",
    "\n",
    "\n",
    "data = data.drop('split', axis=1)"
   ]
  },
  {
   "cell_type": "markdown",
   "id": "d6fc2cf3",
   "metadata": {},
   "source": [
    "## 1 Handled previously ignored dates columns:"
   ]
  },
  {
   "cell_type": "markdown",
   "id": "2affce70",
   "metadata": {},
   "source": [
    "Although those columns are dates, they do not define a time series dataset.   \n",
    "They should be handled in their own specific way. \n",
    "We chose to convert each date cell into a numeric type that represents years from the given date untill today."
   ]
  },
  {
   "cell_type": "markdown",
   "id": "b4a7780d",
   "metadata": {},
   "source": [
    "At first, we filled nan values with very old date, while assuming that the older the assets or its reviews, it will worth less"
   ]
  },
  {
   "cell_type": "code",
   "execution_count": 49,
   "id": "f924463e",
   "metadata": {},
   "outputs": [],
   "source": [
    "data['host_since'] = data['host_since'].fillna('2000-01-22')\n",
    "data['first_review'] = data['first_review'].fillna('2000-01-22')\n",
    "data['last_review'] = data['last_review'].fillna('2000-01-22')"
   ]
  },
  {
   "cell_type": "code",
   "execution_count": 50,
   "id": "a7378d7d",
   "metadata": {},
   "outputs": [],
   "source": [
    "# host_since\n",
    "data.host_since = pd.to_datetime(data.host_since, format='%Y-%m-%d')\n",
    "data['host_since_in_years'] = datetime.datetime.now() - data['host_since']\n",
    "data['host_since_in_years'] = data['host_since_in_years'].apply(lambda x: x.days)\n",
    "data['host_since_in_years'] = data['host_since_in_years'].apply(lambda x: x/365)\n",
    "data.host_since_in_years = pd.to_numeric(data.host_since_in_years)\n",
    "data = data.drop('host_since', axis=1)\n",
    "\n",
    "# first_review\n",
    "data.first_review = pd.to_datetime(data.first_review, format='%Y-%m-%d')\n",
    "data['first_review_in_years'] = datetime.datetime.now() - data['first_review']\n",
    "data['first_review_in_years'] = data['first_review_in_years'].apply(lambda x: x.days)\n",
    "data['first_review_in_years'] = data['first_review_in_years'].apply(lambda x: x/365)\n",
    "data.first_review_in_years = pd.to_numeric(data.first_review_in_years)\n",
    "data = data.drop('first_review', axis=1)\n",
    "\n",
    "# last_review\n",
    "data.last_review = pd.to_datetime(data.last_review, format='%Y-%m-%d')\n",
    "data['last_review_in_years'] = datetime.datetime.now() - data['last_review']\n",
    "data['last_review_in_years'] = data['last_review_in_years'].apply(lambda x: x.days)\n",
    "data['last_review_in_years'] = data['last_review_in_years'].apply(lambda x: x/365)\n",
    "data.last_review_in_years = pd.to_numeric(data.last_review_in_years)\n",
    "data = data.drop('last_review', axis=1)"
   ]
  },
  {
   "cell_type": "markdown",
   "source": [
    "check if there is zero values in bed column"
   ],
   "metadata": {
    "collapsed": false,
    "pycharm": {
     "name": "#%% md\n"
    }
   }
  },
  {
   "cell_type": "code",
   "execution_count": 51,
   "outputs": [],
   "source": [
    "#"
   ],
   "metadata": {
    "collapsed": false,
    "pycharm": {
     "name": "#%%\n"
    }
   }
  },
  {
   "cell_type": "code",
   "execution_count": 52,
   "id": "bbbdb4f5",
   "metadata": {},
   "outputs": [],
   "source": [
    "train = data[msk]\n",
    "test = data[~msk]"
   ]
  },
  {
   "cell_type": "code",
   "execution_count": 53,
   "id": "1b982779",
   "metadata": {},
   "outputs": [
    {
     "data": {
      "text/plain": "                     log_price  host_since_in_years\nlog_price             1.000000             0.071305\nhost_since_in_years   0.071305             1.000000",
      "text/html": "<div>\n<style scoped>\n    .dataframe tbody tr th:only-of-type {\n        vertical-align: middle;\n    }\n\n    .dataframe tbody tr th {\n        vertical-align: top;\n    }\n\n    .dataframe thead th {\n        text-align: right;\n    }\n</style>\n<table border=\"1\" class=\"dataframe\">\n  <thead>\n    <tr style=\"text-align: right;\">\n      <th></th>\n      <th>log_price</th>\n      <th>host_since_in_years</th>\n    </tr>\n  </thead>\n  <tbody>\n    <tr>\n      <th>log_price</th>\n      <td>1.000000</td>\n      <td>0.071305</td>\n    </tr>\n    <tr>\n      <th>host_since_in_years</th>\n      <td>0.071305</td>\n      <td>1.000000</td>\n    </tr>\n  </tbody>\n</table>\n</div>"
     },
     "execution_count": 53,
     "metadata": {},
     "output_type": "execute_result"
    }
   ],
   "source": [
    "train[['log_price','host_since_in_years']].corr()"
   ]
  },
  {
   "cell_type": "code",
   "execution_count": 54,
   "id": "6464792e",
   "metadata": {},
   "outputs": [
    {
     "data": {
      "text/plain": "                       log_price  first_review_in_years\nlog_price               1.000000               0.100069\nfirst_review_in_years   0.100069               1.000000",
      "text/html": "<div>\n<style scoped>\n    .dataframe tbody tr th:only-of-type {\n        vertical-align: middle;\n    }\n\n    .dataframe tbody tr th {\n        vertical-align: top;\n    }\n\n    .dataframe thead th {\n        text-align: right;\n    }\n</style>\n<table border=\"1\" class=\"dataframe\">\n  <thead>\n    <tr style=\"text-align: right;\">\n      <th></th>\n      <th>log_price</th>\n      <th>first_review_in_years</th>\n    </tr>\n  </thead>\n  <tbody>\n    <tr>\n      <th>log_price</th>\n      <td>1.000000</td>\n      <td>0.100069</td>\n    </tr>\n    <tr>\n      <th>first_review_in_years</th>\n      <td>0.100069</td>\n      <td>1.000000</td>\n    </tr>\n  </tbody>\n</table>\n</div>"
     },
     "execution_count": 54,
     "metadata": {},
     "output_type": "execute_result"
    }
   ],
   "source": [
    "train[['log_price','first_review_in_years']].corr()"
   ]
  },
  {
   "cell_type": "code",
   "execution_count": 55,
   "id": "f2507c6d",
   "metadata": {},
   "outputs": [
    {
     "data": {
      "text/plain": "                      log_price  last_review_in_years\nlog_price              1.000000              0.090885\nlast_review_in_years   0.090885              1.000000",
      "text/html": "<div>\n<style scoped>\n    .dataframe tbody tr th:only-of-type {\n        vertical-align: middle;\n    }\n\n    .dataframe tbody tr th {\n        vertical-align: top;\n    }\n\n    .dataframe thead th {\n        text-align: right;\n    }\n</style>\n<table border=\"1\" class=\"dataframe\">\n  <thead>\n    <tr style=\"text-align: right;\">\n      <th></th>\n      <th>log_price</th>\n      <th>last_review_in_years</th>\n    </tr>\n  </thead>\n  <tbody>\n    <tr>\n      <th>log_price</th>\n      <td>1.000000</td>\n      <td>0.090885</td>\n    </tr>\n    <tr>\n      <th>last_review_in_years</th>\n      <td>0.090885</td>\n      <td>1.000000</td>\n    </tr>\n  </tbody>\n</table>\n</div>"
     },
     "execution_count": 55,
     "metadata": {},
     "output_type": "execute_result"
    }
   ],
   "source": [
    "train[['log_price','last_review_in_years']].corr()"
   ]
  },
  {
   "cell_type": "code",
   "execution_count": 56,
   "id": "dd3d79d7",
   "metadata": {},
   "outputs": [],
   "source": [
    "binary_variables = ['cleaning_fee', 'host_has_profile_pic', 'host_identity_verified', 'instant_bookable']\n",
    "\n",
    "categorical_variables = ['property_type', 'room_type', 'bed_type', 'cancellation_policy', 'city',\n",
    "                         'neighbourhood', 'amenities']\n",
    "\n",
    "numeric_variables = ['log_price', 'accommodates', 'bathrooms', 'host_response_rate', 'latitude', 'longitude',\n",
    "                     'number_of_reviews', 'review_scores_rating', 'bedrooms', 'beds', 'host_since_in_years', 'first_review_in_years', 'last_review_in_years']  \n",
    "\n",
    "column_to_drop = ['id', 'name', 'thumbnail_url', 'zipcode', 'description']\n",
    "\n",
    "columns = {'binary_variables': binary_variables, 'categorical_variables': categorical_variables,\n",
    "           'numeric_variables': numeric_variables, 'column_to_drop': column_to_drop, 'binned_variables': []}"
   ]
  },
  {
   "cell_type": "code",
   "execution_count": 57,
   "outputs": [
    {
     "name": "stderr",
     "output_type": "stream",
     "text": [
      "d:\\users\\liels\\onedrive\\desktop\\airbnbprice\\venv\\lib\\site-packages\\pandas\\core\\indexing.py:1667: SettingWithCopyWarning: \n",
      "A value is trying to be set on a copy of a slice from a DataFrame.\n",
      "Try using .loc[row_indexer,col_indexer] = value instead\n",
      "\n",
      "See the caveats in the documentation: https://pandas.pydata.org/pandas-docs/stable/user_guide/indexing.html#returning-a-view-versus-a-copy\n",
      "  self.obj[key] = value\n"
     ]
    }
   ],
   "source": [
    "train.loc[:,'price'] = np.exp(train['log_price'])\n",
    "test.loc[:,'price'] = np.exp(test['log_price'])\n",
    "\n",
    "try:\n",
    "    train.loc[:,'log_price_per_bed'] = np.log(train['price'] / train['beds'])\n",
    "    test.loc[:, 'log_price_per_bed'] = np.log(test['price'] / test['beds'])\n",
    "    train.loc[:, 'price_per_bed'] = train['price'] / train['beds']\n",
    "    test.loc[:, 'price_per_bed'] = test['price'] / test['beds']\n",
    "\n",
    "except:\n",
    "    print(\"error\")\n",
    "numeric_variables.append('log_price_per_bed')\n",
    "numeric_variables.append('price_per_bed')\n",
    "\n",
    "numeric_variables.append('price')"
   ],
   "metadata": {
    "collapsed": false,
    "pycharm": {
     "name": "#%%\n"
    }
   }
  },
  {
   "cell_type": "markdown",
   "id": "e49ea92f",
   "metadata": {},
   "source": [
    "old code for running test prediction:"
   ]
  },
  {
   "cell_type": "code",
   "execution_count": 58,
   "id": "bcd7aaf7",
   "metadata": {},
   "outputs": [],
   "source": [
    "for column in columns['column_to_drop']:\n",
    "    train = train.drop(column, axis=1)\n",
    "    test = test.drop(column, axis=1)\n",
    "    \n",
    "for column in columns['binary_variables']:\n",
    "    train[column] = train[column].apply(lambda x: True if x == 'TRUE' or x == 't' else False)\n",
    "    test[column] = test[column].apply(lambda x: True if x == 'TRUE' or x == 't' else False)\n",
    "\n",
    "train['host_response_rate'] = train['host_response_rate'].str.rstrip('%').astype('float') / 100.0\n",
    "test['host_response_rate'] = test['host_response_rate'].str.rstrip('%').astype('float') / 100.0\n",
    "\n",
    "for column in columns['numeric_variables']:\n",
    "    train[column] = train[column].astype(float)\n",
    "    test[column] = test[column].astype(float)\n",
    "\n",
    "null_columns = []\n",
    "for column in columns['binary_variables'] + columns['categorical_variables'] + columns['numeric_variables']:\n",
    "    if train[column].isnull().sum():\n",
    "        null_columns.append(column)\n",
    "    if test[column].isnull().sum():\n",
    "        null_columns.append(column)\n",
    "        \n",
    "train_with_most_frequent_values = train.copy()\n",
    "test_with_most_frequent_values = test.copy()\n",
    "for column in null_columns:\n",
    "    val = train_with_most_frequent_values[column].value_counts().index[0]\n",
    "    train_with_most_frequent_values[column] = train_with_most_frequent_values[column].fillna(val)\n",
    "    test_with_most_frequent_values[column] = test_with_most_frequent_values[column].fillna(val)\n",
    "\n",
    "train = train_with_most_frequent_values\n",
    "test = test_with_most_frequent_values\n",
    "\n",
    "train = train.reset_index()\n",
    "test = test.reset_index()\n",
    "\n",
    "def collect_amenities(data, columns_dict):\n",
    "    chars_to_remove = '\"{}'\n",
    "    amenities_set = set()\n",
    "    for line in data['amenities']:\n",
    "        amenities = line.split(',')\n",
    "        for obj in amenities:\n",
    "            for char in chars_to_remove:\n",
    "                obj = obj.replace(char, \"\")\n",
    "            if \"translation missing\" not in obj and obj != '':\n",
    "                amenities_set.add(obj)\n",
    "    for amenity in amenities_set:\n",
    "        columns_dict['binary_variables'].append(amenity)\n",
    "    return list(amenities_set)\n",
    "\n",
    "\n",
    "def create_amenities_array(amenities_list, data):\n",
    "    amenities_array = []\n",
    "    for index, row in data.iterrows():\n",
    "        array = np.zeros(shape=(len(amenities_list)))\n",
    "        row_amen = data['amenities'][index].split(',')\n",
    "        for amen in row_amen:\n",
    "            item = amen.replace('\"', '').replace('}', '').replace('{', '')\n",
    "            if item in amenities_list:\n",
    "                res = amenities_list.index(item)\n",
    "                array[res] = 1\n",
    "        amenities_array.append(array.tolist())\n",
    "\n",
    "    amenities_df = pd.DataFrame(amenities_array, columns=amenities_list)\n",
    "    return amenities_df\n",
    "\n",
    "\n",
    "# converting amenities column to binary columns and updating columns_dict\n",
    "def create_amenities_cols(data, amenities_set):\n",
    "    amenities_array = create_amenities_array(amenities_set, data)\n",
    "\n",
    "    data = data.drop(['amenities'], axis=1)\n",
    "    data = pd.concat([data, amenities_array], axis=1)\n",
    "\n",
    "    return data\n",
    "\n",
    "\n",
    "amenities_list = collect_amenities(train, columns)\n",
    "train = create_amenities_cols(train, amenities_list)\n",
    "test = create_amenities_cols(test, amenities_list)\n",
    "columns['categorical_variables'].remove('amenities')\n",
    "\n",
    "\n",
    "top_neighbourhoods = train['neighbourhood'].value_counts().head(50).keys()\n",
    "for index, row in train.iterrows():\n",
    "    if row['neighbourhood'] not in top_neighbourhoods:\n",
    "        train.at[index,'neighbourhood'] = 'other'\n",
    "for index, row in test.iterrows():\n",
    "    if row['neighbourhood'] not in top_neighbourhoods:\n",
    "        test.at[index,'neighbourhood'] = 'other'\n"
   ]
  },
  {
   "cell_type": "code",
   "execution_count": 59,
   "outputs": [],
   "source": [
    "\n",
    "def get_img_from_url(data):\n",
    "    for i in range(len(data)):\n",
    "        # todo move this to clean data\n",
    "        try:\n",
    "            if str(data['thumbnail_url'][i]) == 'nan':\n",
    "                data['brightness'] = 0\n",
    "                continue\n",
    "            response = requests.get(data['thumbnail_url'][i], stream=True)\n",
    "            with open('img.png', 'wb') as out_file:\n",
    "               shutil.copyfileobj(response.raw, out_file)\n",
    "            del response\n",
    "            brightness = get_brightness(data)\n",
    "            data['brightness'] = brightness\n",
    "        except:\n",
    "            data['brightness'] = 0\n",
    "            print(data['thumbnail_url'][i])\n",
    "    return data\n",
    "\n",
    "def get_brightness(data):\n",
    "    # opens image in current working directory, converts to greyscale, and pulls a float value for brightness\n",
    "    from PIL import Image, ImageStat\n",
    "    img_src = Image.open('img.png').convert('L')\n",
    "    img_src.save(\"img_greyscale.png\") # saving this image to show comparison\n",
    "    stat = ImageStat.Stat(img_src)\n",
    "    brightness = stat.mean[0]\n",
    "    return brightness\n",
    "\n",
    "# train = get_img_from_url(train)\n",
    "# test = get_img_from_url(test)\n",
    "# numeric_variables.append('brightness')\n",
    "# train = train.drop('thumbnail_url', axis=1)\n",
    "# test = test.drop('thumbnail_url', axis=1)"
   ],
   "metadata": {
    "collapsed": false,
    "pycharm": {
     "name": "#%%\n"
    }
   }
  },
  {
   "cell_type": "code",
   "execution_count": 60,
   "outputs": [],
   "source": [
    "\n",
    "col_price_list = ['log_price', 'log_price_per_bed', 'price', 'price_per_bed']\n",
    "errors_linear_regression = {}\n",
    "errors_XGBRegressor = {}"
   ],
   "metadata": {
    "collapsed": false,
    "pycharm": {
     "name": "#%%\n"
    }
   }
  },
  {
   "cell_type": "code",
   "execution_count": 61,
   "outputs": [],
   "source": [
    "def drop_other_price(current, oh_train, oh_test):\n",
    "    for price in col_price_list:\n",
    "        if current != price:\n",
    "            oh_train = oh_train.drop(price, axis=1)\n",
    "            oh_test = oh_test.drop(price, axis=1)\n",
    "    oh_train = oh_train.reset_index(drop=True)\n",
    "    oh_test = oh_test.reset_index(drop=True)\n",
    "    return oh_train, oh_test"
   ],
   "metadata": {
    "collapsed": false,
    "pycharm": {
     "name": "#%%\n"
    }
   }
  },
  {
   "cell_type": "code",
   "execution_count": 62,
   "outputs": [],
   "source": [
    "def run(col_price, model):\n",
    "\n",
    "    # we leave the target feature as is\n",
    "    oh_train = train[col_price]\n",
    "    oh_test = test[col_price]\n",
    "\n",
    "    # now adding the one hot encoded data\n",
    "    for variable in columns['binned_variables']+columns['categorical_variables']:\n",
    "        onehot_train_col = pd.get_dummies(train[variable], prefix=variable)\n",
    "        oh_train = pd.concat([oh_train, onehot_train_col], axis=1)\n",
    "\n",
    "        onehot_test_col = pd.get_dummies(test[variable], prefix=variable)\n",
    "        oh_test = pd.concat([oh_test, onehot_test_col], axis=1)\n",
    "\n",
    "    for col in columns['binary_variables']:\n",
    "        train[col] = train[col].replace(True, 1)\n",
    "        train[col] =train[col].replace(False, 0)\n",
    "        oh_train = pd.concat([oh_train, train[col]], axis=1)\n",
    "\n",
    "        test[col] = test[col].replace(True, 1)\n",
    "        test[col] = test[col].replace(False, 0)\n",
    "        oh_test = pd.concat([oh_test, test[col]], axis=1)\n",
    "\n",
    "\n",
    "    for col in columns['numeric_variables']:\n",
    "        if col != col_price:\n",
    "            oh_train = pd.concat([oh_train, train[col]], axis=1)\n",
    "\n",
    "            oh_test = pd.concat([oh_test, test[col]], axis=1)\n",
    "\n",
    "    add_to_test = list(set(oh_train.columns) - set(oh_test.columns))\n",
    "    add_to_train = list(set(oh_test.columns) - set(oh_train.columns))\n",
    "    for col in add_to_train:\n",
    "        oh_train[col] = 0\n",
    "    for col in add_to_test:\n",
    "        oh_test[col] = 0\n",
    "\n",
    "    oh_test = oh_test[oh_train.columns]\n",
    "    oh_train, oh_test = drop_other_price(col_price, oh_train, oh_test)\n",
    "\n",
    "    # separate labels from data=\n",
    "    train_class = oh_train[col_price]\n",
    "    oh_train_data = oh_train.drop(col_price, axis=1)\n",
    "\n",
    "    # train the model:\n",
    "    model.fit(oh_train_data, train_class)\n",
    "    print(model)\n",
    "\n",
    "\n",
    "    train_y = oh_train[col_price].values\n",
    "    train_x = oh_train.drop(col_price, axis=1)\n",
    "    test_y = oh_test[col_price].values\n",
    "    test_x = oh_test.drop(col_price, axis=1)\n",
    "\n",
    "    return train_x, train_y, test_x, test_y, model"
   ],
   "metadata": {
    "collapsed": false,
    "pycharm": {
     "name": "#%%\n"
    }
   }
  },
  {
   "cell_type": "code",
   "execution_count": 63,
   "outputs": [
    {
     "name": "stderr",
     "output_type": "stream",
     "text": [
      "d:\\users\\liels\\onedrive\\desktop\\airbnbprice\\venv\\lib\\site-packages\\ipykernel_launcher.py:34: PerformanceWarning: DataFrame is highly fragmented.  This is usually the result of calling `frame.insert` many times, which has poor performance.  Consider joining all columns at once using pd.concat(axis=1) instead.  To get a de-fragmented frame, use `newframe = frame.copy()`\n",
      "d:\\users\\liels\\onedrive\\desktop\\airbnbprice\\venv\\lib\\site-packages\\ipykernel_launcher.py:36: PerformanceWarning: DataFrame is highly fragmented.  This is usually the result of calling `frame.insert` many times, which has poor performance.  Consider joining all columns at once using pd.concat(axis=1) instead.  To get a de-fragmented frame, use `newframe = frame.copy()`\n"
     ]
    },
    {
     "name": "stdout",
     "output_type": "stream",
     "text": [
      "LinearRegression()\n",
      "Mean Absolute Error (Σ|y-pred|/n): 0.314\n",
      "Mean Squared Error (Σ(|y-pred|/y)/n): 0.180\n",
      "Root Mean Squared Error (sqrt(Σ(y-pred)^2/n)): 0.424\n",
      "r2 score: 0.647\n"
     ]
    },
    {
     "name": "stderr",
     "output_type": "stream",
     "text": [
      "d:\\users\\liels\\onedrive\\desktop\\airbnbprice\\venv\\lib\\site-packages\\ipykernel_launcher.py:34: PerformanceWarning: DataFrame is highly fragmented.  This is usually the result of calling `frame.insert` many times, which has poor performance.  Consider joining all columns at once using pd.concat(axis=1) instead.  To get a de-fragmented frame, use `newframe = frame.copy()`\n",
      "d:\\users\\liels\\onedrive\\desktop\\airbnbprice\\venv\\lib\\site-packages\\ipykernel_launcher.py:36: PerformanceWarning: DataFrame is highly fragmented.  This is usually the result of calling `frame.insert` many times, which has poor performance.  Consider joining all columns at once using pd.concat(axis=1) instead.  To get a de-fragmented frame, use `newframe = frame.copy()`\n"
     ]
    },
    {
     "name": "stdout",
     "output_type": "stream",
     "text": [
      "LinearRegression()\n",
      "Mean Absolute Error (Σ|y-pred|/n): 0.334\n",
      "Mean Squared Error (Σ(|y-pred|/y)/n): 0.203\n",
      "Root Mean Squared Error (sqrt(Σ(y-pred)^2/n)): 0.450\n",
      "r2 score: 0.503\n"
     ]
    },
    {
     "name": "stderr",
     "output_type": "stream",
     "text": [
      "d:\\users\\liels\\onedrive\\desktop\\airbnbprice\\venv\\lib\\site-packages\\ipykernel_launcher.py:34: PerformanceWarning: DataFrame is highly fragmented.  This is usually the result of calling `frame.insert` many times, which has poor performance.  Consider joining all columns at once using pd.concat(axis=1) instead.  To get a de-fragmented frame, use `newframe = frame.copy()`\n",
      "d:\\users\\liels\\onedrive\\desktop\\airbnbprice\\venv\\lib\\site-packages\\ipykernel_launcher.py:36: PerformanceWarning: DataFrame is highly fragmented.  This is usually the result of calling `frame.insert` many times, which has poor performance.  Consider joining all columns at once using pd.concat(axis=1) instead.  To get a de-fragmented frame, use `newframe = frame.copy()`\n"
     ]
    },
    {
     "name": "stdout",
     "output_type": "stream",
     "text": [
      "LinearRegression()\n",
      "Mean Absolute Error (Σ|y-pred|/n): 66.578\n",
      "Mean Squared Error (Σ(|y-pred|/y)/n): 14,305.828\n",
      "Root Mean Squared Error (sqrt(Σ(y-pred)^2/n)): 119.607\n",
      "r2 score: 0.480\n"
     ]
    },
    {
     "name": "stderr",
     "output_type": "stream",
     "text": [
      "d:\\users\\liels\\onedrive\\desktop\\airbnbprice\\venv\\lib\\site-packages\\ipykernel_launcher.py:34: PerformanceWarning: DataFrame is highly fragmented.  This is usually the result of calling `frame.insert` many times, which has poor performance.  Consider joining all columns at once using pd.concat(axis=1) instead.  To get a de-fragmented frame, use `newframe = frame.copy()`\n",
      "d:\\users\\liels\\onedrive\\desktop\\airbnbprice\\venv\\lib\\site-packages\\ipykernel_launcher.py:36: PerformanceWarning: DataFrame is highly fragmented.  This is usually the result of calling `frame.insert` many times, which has poor performance.  Consider joining all columns at once using pd.concat(axis=1) instead.  To get a de-fragmented frame, use `newframe = frame.copy()`\n"
     ]
    },
    {
     "name": "stdout",
     "output_type": "stream",
     "text": [
      "LinearRegression()\n",
      "Mean Absolute Error (Σ|y-pred|/n): 40.575\n",
      "Mean Squared Error (Σ(|y-pred|/y)/n): 5,235.548\n",
      "Root Mean Squared Error (sqrt(Σ(y-pred)^2/n)): 72.357\n",
      "r2 score: 0.288\n"
     ]
    }
   ],
   "source": [
    "linear_regression = linear_model.LinearRegression()\n",
    "for col_price in col_price_list:\n",
    "    train_x, train_y, test_x, test_y, linear_regression = run(col_price, linear_regression)\n",
    "    prediction_test = linear_regression.predict(test_x)\n",
    "    errors_linear_regression[col_price] = mean_absolute_error(test_y, prediction_test)\n",
    "    print(\"Mean Absolute Error (Σ|y-pred|/n):\", \"{:,.3f}\".format(mean_absolute_error(test_y, prediction_test)))\n",
    "    print(\"Mean Squared Error (Σ(|y-pred|/y)/n):\",\n",
    "          \"{:,.3f}\".format(mean_squared_error(test_y, prediction_test)))\n",
    "    print(\"Root Mean Squared Error (sqrt(Σ(y-pred)^2/n)):\", \"{:,.3f}\".\n",
    "          format(np.sqrt(mean_squared_error(test_y, prediction_test))))\n",
    "    print(\"r2 score:\", \"{:,.3f}\".format(r2_score(test_y, prediction_test)))"
   ],
   "metadata": {
    "collapsed": false,
    "pycharm": {
     "name": "#%%\n"
    }
   }
  },
  {
   "cell_type": "code",
   "execution_count": 64,
   "outputs": [
    {
     "name": "stdout",
     "output_type": "stream",
     "text": [
      "{'log_price': 0.31358312419796097, 'log_price_per_bed': 0.33431571197448745, 'price': 66.57801026580265, 'price_per_bed': 40.574642181517675}\n"
     ]
    },
    {
     "data": {
      "text/plain": "<Figure size 432x288 with 1 Axes>",
      "image/png": "[encoded data removed]"
     },
     "metadata": {
      "needs_background": "light"
     },
     "output_type": "display_data"
    }
   ],
   "source": [
    "print(errors_linear_regression)\n",
    "plt.bar(list(errors_linear_regression.keys()), errors_linear_regression.values(), color='b')\n",
    "plt.show()\n"
   ],
   "metadata": {
    "collapsed": false,
    "pycharm": {
     "name": "#%%\n"
    }
   }
  },
  {
   "cell_type": "markdown",
   "id": "bf287134",
   "metadata": {},
   "source": [
    "### This addition did not cause a significant change.\n",
    "- should we drop these columns?\n",
    "- should we think of a better use of the originals columns?\n",
    "- will a more complex model be more influenced by these columns?"
   ]
  },
  {
   "cell_type": "markdown",
   "id": "dfd5a7a8",
   "metadata": {},
   "source": [
    "## 2 Swithced from linear regression model into xgboost"
   ]
  },
  {
   "cell_type": "code",
   "execution_count": 65,
   "id": "89d7080b",
   "metadata": {},
   "outputs": [
    {
     "name": "stderr",
     "output_type": "stream",
     "text": [
      "d:\\users\\liels\\onedrive\\desktop\\airbnbprice\\venv\\lib\\site-packages\\ipykernel_launcher.py:34: PerformanceWarning: DataFrame is highly fragmented.  This is usually the result of calling `frame.insert` many times, which has poor performance.  Consider joining all columns at once using pd.concat(axis=1) instead.  To get a de-fragmented frame, use `newframe = frame.copy()`\n",
      "d:\\users\\liels\\onedrive\\desktop\\airbnbprice\\venv\\lib\\site-packages\\ipykernel_launcher.py:36: PerformanceWarning: DataFrame is highly fragmented.  This is usually the result of calling `frame.insert` many times, which has poor performance.  Consider joining all columns at once using pd.concat(axis=1) instead.  To get a de-fragmented frame, use `newframe = frame.copy()`\n"
     ]
    },
    {
     "name": "stdout",
     "output_type": "stream",
     "text": [
      "XGBRegressor(base_score=0.5, booster='gbtree', callbacks=None,\n",
      "             colsample_bylevel=1, colsample_bynode=1, colsample_bytree=1,\n",
      "             early_stopping_rounds=None, enable_categorical=False,\n",
      "             eval_metric=None, gamma=0, gpu_id=-1, grow_policy='depthwise',\n",
      "             importance_type=None, interaction_constraints='',\n",
      "             learning_rate=0.300000012, max_bin=256, max_cat_to_onehot=4,\n",
      "             max_delta_step=0, max_depth=6, max_leaves=0, min_child_weight=1,\n",
      "             missing=nan, monotone_constraints='()', n_estimators=100, n_jobs=0,\n",
      "             num_parallel_tree=1, predictor='auto', random_state=0, reg_alpha=0,\n",
      "             reg_lambda=1, ...)\n",
      "Mean Absolute Error (Σ|y-pred|/n): 0.272\n",
      "Mean Squared Error (Σ(|y-pred|/y)/n): 0.141\n",
      "Root Mean Squared Error (sqrt(Σ(y-pred)^2/n)): 0.375\n",
      "r2 score: 0.723\n"
     ]
    },
    {
     "name": "stderr",
     "output_type": "stream",
     "text": [
      "d:\\users\\liels\\onedrive\\desktop\\airbnbprice\\venv\\lib\\site-packages\\ipykernel_launcher.py:34: PerformanceWarning: DataFrame is highly fragmented.  This is usually the result of calling `frame.insert` many times, which has poor performance.  Consider joining all columns at once using pd.concat(axis=1) instead.  To get a de-fragmented frame, use `newframe = frame.copy()`\n",
      "d:\\users\\liels\\onedrive\\desktop\\airbnbprice\\venv\\lib\\site-packages\\ipykernel_launcher.py:36: PerformanceWarning: DataFrame is highly fragmented.  This is usually the result of calling `frame.insert` many times, which has poor performance.  Consider joining all columns at once using pd.concat(axis=1) instead.  To get a de-fragmented frame, use `newframe = frame.copy()`\n"
     ]
    },
    {
     "name": "stdout",
     "output_type": "stream",
     "text": [
      "XGBRegressor(base_score=0.5, booster='gbtree', callbacks=None,\n",
      "             colsample_bylevel=1, colsample_bynode=1, colsample_bytree=1,\n",
      "             early_stopping_rounds=None, enable_categorical=False,\n",
      "             eval_metric=None, gamma=0, gpu_id=-1, grow_policy='depthwise',\n",
      "             importance_type=None, interaction_constraints='',\n",
      "             learning_rate=0.300000012, max_bin=256, max_cat_to_onehot=4,\n",
      "             max_delta_step=0, max_depth=6, max_leaves=0, min_child_weight=1,\n",
      "             missing=nan, monotone_constraints='()', n_estimators=100, n_jobs=0,\n",
      "             num_parallel_tree=1, predictor='auto', random_state=0, reg_alpha=0,\n",
      "             reg_lambda=1, ...)\n",
      "Mean Absolute Error (Σ|y-pred|/n): 0.274\n",
      "Mean Squared Error (Σ(|y-pred|/y)/n): 0.142\n",
      "Root Mean Squared Error (sqrt(Σ(y-pred)^2/n)): 0.377\n",
      "r2 score: 0.652\n"
     ]
    },
    {
     "name": "stderr",
     "output_type": "stream",
     "text": [
      "d:\\users\\liels\\onedrive\\desktop\\airbnbprice\\venv\\lib\\site-packages\\ipykernel_launcher.py:34: PerformanceWarning: DataFrame is highly fragmented.  This is usually the result of calling `frame.insert` many times, which has poor performance.  Consider joining all columns at once using pd.concat(axis=1) instead.  To get a de-fragmented frame, use `newframe = frame.copy()`\n",
      "d:\\users\\liels\\onedrive\\desktop\\airbnbprice\\venv\\lib\\site-packages\\ipykernel_launcher.py:36: PerformanceWarning: DataFrame is highly fragmented.  This is usually the result of calling `frame.insert` many times, which has poor performance.  Consider joining all columns at once using pd.concat(axis=1) instead.  To get a de-fragmented frame, use `newframe = frame.copy()`\n"
     ]
    },
    {
     "name": "stdout",
     "output_type": "stream",
     "text": [
      "XGBRegressor(base_score=0.5, booster='gbtree', callbacks=None,\n",
      "             colsample_bylevel=1, colsample_bynode=1, colsample_bytree=1,\n",
      "             early_stopping_rounds=None, enable_categorical=False,\n",
      "             eval_metric=None, gamma=0, gpu_id=-1, grow_policy='depthwise',\n",
      "             importance_type=None, interaction_constraints='',\n",
      "             learning_rate=0.300000012, max_bin=256, max_cat_to_onehot=4,\n",
      "             max_delta_step=0, max_depth=6, max_leaves=0, min_child_weight=1,\n",
      "             missing=nan, monotone_constraints='()', n_estimators=100, n_jobs=0,\n",
      "             num_parallel_tree=1, predictor='auto', random_state=0, reg_alpha=0,\n",
      "             reg_lambda=1, ...)\n",
      "Mean Absolute Error (Σ|y-pred|/n): 52.082\n",
      "Mean Squared Error (Σ(|y-pred|/y)/n): 11,030.369\n",
      "Root Mean Squared Error (sqrt(Σ(y-pred)^2/n)): 105.026\n",
      "r2 score: 0.599\n"
     ]
    },
    {
     "name": "stderr",
     "output_type": "stream",
     "text": [
      "d:\\users\\liels\\onedrive\\desktop\\airbnbprice\\venv\\lib\\site-packages\\ipykernel_launcher.py:34: PerformanceWarning: DataFrame is highly fragmented.  This is usually the result of calling `frame.insert` many times, which has poor performance.  Consider joining all columns at once using pd.concat(axis=1) instead.  To get a de-fragmented frame, use `newframe = frame.copy()`\n",
      "d:\\users\\liels\\onedrive\\desktop\\airbnbprice\\venv\\lib\\site-packages\\ipykernel_launcher.py:36: PerformanceWarning: DataFrame is highly fragmented.  This is usually the result of calling `frame.insert` many times, which has poor performance.  Consider joining all columns at once using pd.concat(axis=1) instead.  To get a de-fragmented frame, use `newframe = frame.copy()`\n"
     ]
    },
    {
     "name": "stdout",
     "output_type": "stream",
     "text": [
      "XGBRegressor(base_score=0.5, booster='gbtree', callbacks=None,\n",
      "             colsample_bylevel=1, colsample_bynode=1, colsample_bytree=1,\n",
      "             early_stopping_rounds=None, enable_categorical=False,\n",
      "             eval_metric=None, gamma=0, gpu_id=-1, grow_policy='depthwise',\n",
      "             importance_type=None, interaction_constraints='',\n",
      "             learning_rate=0.300000012, max_bin=256, max_cat_to_onehot=4,\n",
      "             max_delta_step=0, max_depth=6, max_leaves=0, min_child_weight=1,\n",
      "             missing=nan, monotone_constraints='()', n_estimators=100, n_jobs=0,\n",
      "             num_parallel_tree=1, predictor='auto', random_state=0, reg_alpha=0,\n",
      "             reg_lambda=1, ...)\n",
      "Mean Absolute Error (Σ|y-pred|/n): 33.425\n",
      "Mean Squared Error (Σ(|y-pred|/y)/n): 4,398.826\n",
      "Root Mean Squared Error (sqrt(Σ(y-pred)^2/n)): 66.324\n",
      "r2 score: 0.402\n"
     ]
    }
   ],
   "source": [
    "# Instantiation\n",
    "xgb_r = xg.XGBRegressor()\n",
    "\n",
    "# Fitting the model\n",
    "for col_price in col_price_list:\n",
    "    train_x, train_y, test_x, test_y, xgb_r = run(col_price, xgb_r)\n",
    "#     xgb_r.fit(train_x, train_y)\n",
    "\n",
    "    # Predict the model\n",
    "    prediction_test = xgb_r.predict(test_x)\n",
    "    errors_XGBRegressor[col_price] = mean_absolute_error(test_y, prediction_test)\n",
    "    print(\"Mean Absolute Error (Σ|y-pred|/n):\", \"{:,.3f}\".format(mean_absolute_error(test_y, prediction_test)))\n",
    "    print(\"Mean Squared Error (Σ(|y-pred|/y)/n):\",\n",
    "          \"{:,.3f}\".format(mean_squared_error(test_y, prediction_test)))\n",
    "    print(\"Root Mean Squared Error (sqrt(Σ(y-pred)^2/n)):\", \"{:,.3f}\".\n",
    "          format(np.sqrt(mean_squared_error(test_y, prediction_test))))\n",
    "    print(\"r2 score:\", \"{:,.3f}\".format(r2_score(test_y, prediction_test)))"
   ]
  },
  {
   "cell_type": "code",
   "execution_count": 66,
   "id": "4ceb161f",
   "metadata": {},
   "outputs": [
    {
     "name": "stdout",
     "output_type": "stream",
     "text": [
      "{'log_price': 0.2724098411463884, 'log_price_per_bed': 0.2739559236804964, 'price': 52.08192068980185, 'price_per_bed': 33.4245555987937}\n"
     ]
    },
    {
     "data": {
      "text/plain": "<Figure size 432x288 with 1 Axes>",
      "image/png": "[encoded data removed]"
     },
     "metadata": {
      "needs_background": "light"
     },
     "output_type": "display_data"
    }
   ],
   "source": [
    "# max_bars = 3\n",
    "print(errors_XGBRegressor)\n",
    "plt.bar(list(errors_XGBRegressor.keys()), errors_XGBRegressor.values(), color='b')\n",
    "plt.show()"
   ]
  },
  {
   "cell_type": "markdown",
   "id": "41056c48",
   "metadata": {},
   "source": [
    "## 3 Better filling of nan values"
   ]
  },
  {
   "cell_type": "code",
   "execution_count": 67,
   "id": "2bea36d5",
   "metadata": {},
   "outputs": [
    {
     "name": "stdout",
     "output_type": "stream",
     "text": [
      "zero values 4\n",
      "zero values 0\n"
     ]
    }
   ],
   "source": [
    "data = pd.read_csv('dataset/train.csv')\n",
    "\n",
    "# delete from columns bed - rows with zero\n",
    "count = (data['beds'] == 0).sum()\n",
    "print('zero values', count)\n",
    "data = data[data['beds'] > 0]\n",
    "count = (data['beds'] == 0).sum()\n",
    "print('zero values', count)\n",
    "\n",
    "\n",
    "data['host_since'] = data['host_since'].fillna('2000-01-22')\n",
    "data['first_review'] = data['first_review'].fillna('2000-01-22')\n",
    "data['last_review'] = data['last_review'].fillna('2000-01-22')\n",
    "data.host_since = pd.to_datetime(data.host_since, format='%Y-%m-%d')\n",
    "data['host_since_in_years'] = datetime.datetime.now() - data['host_since']\n",
    "data['host_since_in_years'] = data['host_since_in_years'].apply(lambda x: x.days)\n",
    "data['host_since_in_years'] = data['host_since_in_years'].apply(lambda x: x/365)\n",
    "data.host_since_in_years = pd.to_numeric(data.host_since_in_years)\n",
    "data = data.drop('host_since', axis=1)\n",
    "\n",
    "# first_review\n",
    "data.first_review = pd.to_datetime(data.first_review, format='%Y-%m-%d')\n",
    "data['first_review_in_years'] = datetime.datetime.now() - data['first_review']\n",
    "data['first_review_in_years'] = data['first_review_in_years'].apply(lambda x: x.days)\n",
    "data['first_review_in_years'] = data['first_review_in_years'].apply(lambda x: x/365)\n",
    "data.first_review_in_years = pd.to_numeric(data.first_review_in_years)\n",
    "data = data.drop('first_review', axis=1)\n",
    "\n",
    "# last_review\n",
    "data.last_review = pd.to_datetime(data.last_review, format='%Y-%m-%d')\n",
    "data['last_review_in_years'] = datetime.datetime.now() - data['last_review']\n",
    "data['last_review_in_years'] = data['last_review_in_years'].apply(lambda x: x.days)\n",
    "data['last_review_in_years'] = data['last_review_in_years'].apply(lambda x: x/365)\n",
    "data.last_review_in_years = pd.to_numeric(data.last_review_in_years)\n",
    "data = data.drop('last_review', axis=1)\n",
    "\n",
    "train = data[msk]\n",
    "test = data[~msk]\n",
    "\n",
    "\n",
    "binary_variables = ['cleaning_fee', 'host_has_profile_pic', 'host_identity_verified', 'instant_bookable']\n",
    "\n",
    "categorical_variables = ['property_type', 'room_type', 'bed_type', 'cancellation_policy', 'city',\n",
    "                         'neighbourhood', 'amenities']\n",
    "\n",
    "numeric_variables = ['log_price', 'accommodates', 'bathrooms', 'host_response_rate', 'latitude', 'longitude',\n",
    "                     'number_of_reviews', 'review_scores_rating', 'bedrooms', 'beds', 'host_since_in_years', 'first_review_in_years', 'last_review_in_years']  \n",
    "\n",
    "column_to_drop = ['id', 'name', 'thumbnail_url', 'zipcode', 'description']\n",
    "\n",
    "columns = {'binary_variables': binary_variables, 'categorical_variables': categorical_variables,\n",
    "           'numeric_variables': numeric_variables, 'column_to_drop': column_to_drop, 'binned_variables': []}\n",
    "\n",
    "for column in columns['column_to_drop']:\n",
    "    train = train.drop(column, axis=1)\n",
    "    test = test.drop(column, axis=1)\n",
    "    \n",
    "for column in columns['binary_variables']:\n",
    "    train[column] = train[column].apply(lambda x: True if x == 'TRUE' or x == 't' else False)\n",
    "    test[column] = test[column].apply(lambda x: True if x == 'TRUE' or x == 't' else False)\n",
    "    \n",
    "train['host_response_rate'] = train['host_response_rate'].str.rstrip('%').astype('float') / 100.0\n",
    "test['host_response_rate'] = test['host_response_rate'].str.rstrip('%').astype('float') / 100.0\n",
    "\n",
    "for column in columns['numeric_variables']:\n",
    "    train[column] = train[column].astype(float)\n",
    "    test[column] = test[column].astype(float)\n",
    "    \n",
    "null_columns = []\n",
    "for column in columns['binary_variables'] + columns['categorical_variables'] + columns['numeric_variables']:\n",
    "    if train[column].isnull().sum():\n",
    "        null_columns.append(column)\n",
    "    if test[column].isnull().sum():\n",
    "        null_columns.append(column)\n",
    "        \n"
   ]
  },
  {
   "cell_type": "markdown",
   "id": "b90cdc69",
   "metadata": {},
   "source": [
    "### bathrooms, bedrooms and beds"
   ]
  },
  {
   "cell_type": "code",
   "execution_count": 68,
   "id": "326b3243",
   "metadata": {},
   "outputs": [],
   "source": [
    "avg_bath_per_accomm = (train['bathrooms']/train['accommodates']).mean()\n",
    "\n",
    "train['bathrooms'] = train['bathrooms'].fillna(train['accommodates']*avg_bath_per_accomm)\n",
    "test['bathrooms'] = test['bathrooms'].fillna(test['accommodates']*avg_bath_per_accomm)\n",
    "null_columns = list(filter(lambda x : x!='bathrooms', null_columns))\n",
    "\n",
    "\n",
    "avg_bedrooms_per_accomm = (train['bedrooms']/train['accommodates']).mean()\n",
    "\n",
    "train['bedrooms'] = train['bedrooms'].fillna(train['accommodates']*avg_bedrooms_per_accomm)\n",
    "test['bedrooms'] = test['bedrooms'].fillna(test['accommodates']*avg_bedrooms_per_accomm)\n",
    "null_columns = list(filter(lambda x : x!='bedrooms', null_columns))\n",
    "\n",
    "\n",
    "avg_beds_per_accomm = (train['beds']/train['accommodates']).mean()\n",
    "\n",
    "train['beds'] = train['beds'].fillna(train['accommodates']*avg_beds_per_accomm)\n",
    "test['beds'] = test['beds'].fillna(test['accommodates']*avg_beds_per_accomm)\n",
    "null_columns = list(filter(lambda x : x!='beds', null_columns))"
   ]
  },
  {
   "cell_type": "markdown",
   "id": "9e648d00",
   "metadata": {},
   "source": [
    "### neighbourhood"
   ]
  },
  {
   "cell_type": "code",
   "execution_count": 69,
   "id": "a888241d",
   "metadata": {},
   "outputs": [],
   "source": [
    "### we have 5473 missing neighborhoods, maybe we can add dict of neighbourhoods center lon lat and check for the closest with some limit to sent it to other\n"
   ]
  },
  {
   "cell_type": "code",
   "execution_count": 70,
   "id": "f59d9feb",
   "metadata": {},
   "outputs": [
    {
     "name": "stderr",
     "output_type": "stream",
     "text": [
      "d:\\users\\liels\\onedrive\\desktop\\airbnbprice\\venv\\lib\\site-packages\\ipykernel_launcher.py:97: PerformanceWarning: DataFrame is highly fragmented.  This is usually the result of calling `frame.insert` many times, which has poor performance.  Consider joining all columns at once using pd.concat(axis=1) instead.  To get a de-fragmented frame, use `newframe = frame.copy()`\n",
      "d:\\users\\liels\\onedrive\\desktop\\airbnbprice\\venv\\lib\\site-packages\\ipykernel_launcher.py:99: PerformanceWarning: DataFrame is highly fragmented.  This is usually the result of calling `frame.insert` many times, which has poor performance.  Consider joining all columns at once using pd.concat(axis=1) instead.  To get a de-fragmented frame, use `newframe = frame.copy()`\n"
     ]
    },
    {
     "name": "stdout",
     "output_type": "stream",
     "text": [
      "Mean Absolute Error (Σ|y-pred|/n): 0.272\n",
      "Mean Squared Error (Σ(|y-pred|/y)/n): 0.140\n",
      "Root Mean Squared Error (sqrt(Σ(y-pred)^2/n)): 0.375\n",
      "r2 score: 0.724\n"
     ]
    }
   ],
   "source": [
    "train_with_most_frequent_values = train.copy()\n",
    "test_with_most_frequent_values = test.copy()\n",
    "for column in null_columns:\n",
    "    val = train_with_most_frequent_values[column].value_counts().index[0]\n",
    "    train_with_most_frequent_values[column] = train_with_most_frequent_values[column].fillna(val)\n",
    "    test_with_most_frequent_values[column] = test_with_most_frequent_values[column].fillna(val)\n",
    "\n",
    "train = train_with_most_frequent_values\n",
    "test = test_with_most_frequent_values\n",
    "\n",
    "train = train.reset_index()\n",
    "test = test.reset_index()\n",
    "\n",
    "def collect_amenities(data, columns_dict):\n",
    "    chars_to_remove = '\"{}'\n",
    "    amenities_set = set()\n",
    "    for line in data['amenities']:\n",
    "        amenities = line.split(',')\n",
    "        for obj in amenities:\n",
    "            for char in chars_to_remove:\n",
    "                obj = obj.replace(char, \"\")\n",
    "            if \"translation missing\" not in obj and obj != '':\n",
    "                amenities_set.add(obj)\n",
    "    for amenity in amenities_set:\n",
    "        columns_dict['binary_variables'].append(amenity)\n",
    "    return list(amenities_set)\n",
    "\n",
    "\n",
    "def create_amenities_array(amenities_list, data):\n",
    "    amenities_array = []\n",
    "    for index, row in data.iterrows():\n",
    "        array = np.zeros(shape=(len(amenities_list)))\n",
    "        row_amen = data['amenities'][index].split(',')\n",
    "        for amen in row_amen:\n",
    "            item = amen.replace('\"', '').replace('}', '').replace('{', '')\n",
    "            if item in amenities_list:\n",
    "                res = amenities_list.index(item)\n",
    "                array[res] = 1\n",
    "        amenities_array.append(array.tolist())\n",
    "\n",
    "    amenities_df = pd.DataFrame(amenities_array, columns=amenities_list)\n",
    "    return amenities_df\n",
    "\n",
    "\n",
    "# converting amenities column to binary columns and updating columns_dict\n",
    "def create_amenities_cols(data, amenities_set):\n",
    "    amenities_array = create_amenities_array(amenities_set, data)\n",
    "\n",
    "    data = data.drop(['amenities'], axis=1)\n",
    "    data = pd.concat([data, amenities_array], axis=1)\n",
    "\n",
    "    return data\n",
    "\n",
    "amenities_list = collect_amenities(train, columns)\n",
    "train = create_amenities_cols(train, amenities_list)\n",
    "test = create_amenities_cols(test, amenities_list)\n",
    "columns['categorical_variables'].remove('amenities')\n",
    "\n",
    "top_neighbourhoods = train['neighbourhood'].value_counts().head(50).keys()\n",
    "for index, row in train.iterrows():\n",
    "    if row['neighbourhood'] not in top_neighbourhoods:\n",
    "        train.at[index,'neighbourhood'] = 'other'\n",
    "for index, row in test.iterrows():\n",
    "    if row['neighbourhood'] not in top_neighbourhoods:\n",
    "        test.at[index,'neighbourhood'] = 'other'\n",
    "        \n",
    "# we leave the target feature as is\n",
    "oh_train = train['log_price']\n",
    "oh_test = test['log_price']\n",
    "\n",
    "# now adding the one hot encoded data\n",
    "for variable in columns['binned_variables']+columns['categorical_variables']:\n",
    "    onehot_train_col = pd.get_dummies(train[variable], prefix=variable)\n",
    "    oh_train = pd.concat([oh_train, onehot_train_col], axis=1)\n",
    "\n",
    "    onehot_test_col = pd.get_dummies(test[variable], prefix=variable)\n",
    "    oh_test = pd.concat([oh_test, onehot_test_col], axis=1)\n",
    "    \n",
    "for col in columns['binary_variables']:\n",
    "    train[col] = train[col].replace(True, 1)\n",
    "    train[col] =train[col].replace(False, 0)\n",
    "    oh_train = pd.concat([oh_train, train[col]], axis=1)\n",
    "\n",
    "    test[col] = test[col].replace(True, 1)\n",
    "    test[col] = test[col].replace(False, 0)\n",
    "    oh_test = pd.concat([oh_test, test[col]], axis=1)\n",
    "    \n",
    "for col in columns['numeric_variables']:\n",
    "    if col != 'log_price':\n",
    "        oh_train = pd.concat([oh_train, train[col]], axis=1)\n",
    "\n",
    "        oh_test = pd.concat([oh_test, test[col]], axis=1)\n",
    "        \n",
    "add_to_test = list(set(oh_train.columns) - set(oh_test.columns))\n",
    "add_to_train = list(set(oh_test.columns) - set(oh_train.columns))\n",
    "for col in add_to_train:\n",
    "    oh_train[col] = 0\n",
    "for col in add_to_test:\n",
    "    oh_test[col] = 0\n",
    "\n",
    "oh_test = oh_test[oh_train.columns]\n",
    "\n",
    "train_y = oh_train['log_price'].values\n",
    "train_x = oh_train.drop('log_price', axis=1)\n",
    "test_y = oh_test['log_price'].values\n",
    "test_x = oh_test.drop('log_price', axis=1)\n",
    "\n",
    "\n",
    "\n",
    "xgb_r = xg.XGBRegressor()\n",
    " \n",
    "\n",
    "xgb_r.fit(train_x, train_y)\n",
    " \n",
    "\n",
    "prediction_test = xgb_r.predict(test_x)\n",
    "\n",
    "print(\"Mean Absolute Error (Σ|y-pred|/n):\", \"{:,.3f}\".format(mean_absolute_error(test_y, prediction_test)))\n",
    "print(\"Mean Squared Error (Σ(|y-pred|/y)/n):\",\n",
    "      \"{:,.3f}\".format(mean_squared_error(test_y, prediction_test)))\n",
    "print(\"Root Mean Squared Error (sqrt(Σ(y-pred)^2/n)):\", \"{:,.3f}\".\n",
    "      format(np.sqrt(mean_squared_error(test_y, prediction_test))))\n",
    "print(\"r2 score:\", \"{:,.3f}\".format(r2_score(test_y, prediction_test)))"
   ]
  },
  {
   "cell_type": "code",
   "execution_count": 70,
   "id": "b41e2131",
   "metadata": {},
   "outputs": [],
   "source": []
  },
  {
   "cell_type": "code",
   "execution_count": 70,
   "id": "befaf153",
   "metadata": {},
   "outputs": [],
   "source": []
  }
 ],
 "metadata": {
  "kernelspec": {
   "display_name": "Python 3 (ipykernel)",
   "language": "python",
   "name": "python3"
  },
  "language_info": {
   "codemirror_mode": {
    "name": "ipython",
    "version": 3
   },
   "file_extension": ".py",
   "mimetype": "text/x-python",
   "name": "python",
   "nbconvert_exporter": "python",
   "pygments_lexer": "ipython3",
   "version": "3.9.7"
  }
 },
 "nbformat": 4,
 "nbformat_minor": 5
}