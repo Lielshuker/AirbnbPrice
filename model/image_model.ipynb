{
 "cells": [
  {
   "cell_type": "code",
   "execution_count": 1,
   "metadata": {
    "colab": {
     "base_uri": "https://localhost:8080/"
    },
    "id": "iwA2OHMyNxRX",
    "outputId": "309dd0e0-96a9-45fd-81a0-5a0b8acba118",
    "pycharm": {
     "name": "#%%\n"
    }
   },
   "outputs": [],
   "source": [
    "import numpy as np\n",
    "import pandas as pd\n",
    "from PIL import Image, ImageStat\n",
    "import requests\n",
    "from io import BytesIO\n",
    "import matplotlib.pyplot as plt\n",
    "\n",
    "\n",
    "import keras\n",
    "\n",
    "from keras.applications.inception_v3 import InceptionV3\n",
    "from keras.preprocessing import image\n",
    "from keras.models import Model\n",
    "from keras.layers import Dense, GlobalAveragePooling2D, Dropout\n",
    "from keras import backend as K\n",
    "import shutil\n"
   ]
  },
  {
   "cell_type": "markdown",
   "source": [
    "loading the data"
   ],
   "metadata": {
    "collapsed": false,
    "pycharm": {
     "name": "#%% md\n"
    }
   }
  },
  {
   "cell_type": "code",
   "execution_count": null,
   "metadata": {
    "id": "zKbx616kOI3K",
    "colab": {
     "base_uri": "https://localhost:8080/"
    },
    "outputId": "08888a48-576f-40d1-f845-a03e18b03a11",
    "pycharm": {
     "is_executing": true
    }
   },
   "outputs": [
    {
     "name": "stderr",
     "output_type": "stream",
     "text": [
      "D:\\Users\\liels\\OneDrive\\Desktop\\AirbnbPrice\\model\\image_model.py:126: DtypeWarning: Columns (67) have mixed types.Specify dtype option on import or set low_memory=False.\n",
      "  run_inceptionV3()\n"
     ]
    },
    {
     "name": "stdout",
     "output_type": "stream",
     "text": [
      "0 % done\n",
      "20 % done\n",
      "40 % done\n",
      "60 % done\n",
      "80 % done\n",
      "Epoch 1/3\n",
      "10/10 [==============================] - 22s 2s/step - loss: 13914.1816 - mse: 13914.1816 - mae: 78.2811 - val_loss: 11871.6758 - val_mse: 11871.6758 - val_mae: 64.9865\b\b\b\b\b\b\b\b\b\b\b\b\b\b\b\b\b\b\b\b\b\b\b\b\b\b\b\b\b\b\b\b\b\b\b\b\b\b\b\b\b\b\b\b\b\b\b\b\b\b\b\b\b\b\b\b\b\b\b\b\b\b\b\b\b\b\b\b\b\b\b\b\b\b\b\b\b\b\b\b\b\b\b\b\b\b\b\b\b\b\b\b\b\b\b\b\b\b\b\b\b\b\b\b\b\b\b\b\b\b\b\b\b\b\b\b\b\b\b\b\b\b\b\b\b\b\b\b\b\b\b\b\b\b\b\b\b\b\b\b\b\b\b\b\b\b\b\b\b\b\b\b\b\b\b\b\b\b\b\b\b\b\b\b\b\b\b\b\b\b\b\b\b\b\b\b\b\b\b\b\b\b\b\b\b\b\b\b\b\b\b\b\b\b\b\b\b\b\b\b\b\b\b\b\b\b\b\b\b\b\b\b\b\b\b\b\b\b\b\b\b\b\b\b\b\b\b\b\b\b\b\b\b\b\b\b\b\b\b\b\b\b\b\b\b\b\b\b\b\b\b\b\b\b\b\b\b\b\b\b\b\b\b\b\b\b\b\b\b\b\b\b\b\b\b\b\b\b\b\b\b\b\b\b\b\b\b\b\b\b\b\b\b\b\b\b\b\b\b\b\b\b\b\b\b\b\b\b\b\b\b\b\b\b\b\b\b\b\b\b\b\b\b\b\b\b\b\b\b\b\b\b\b\b\b\b\b\b\b\b\b\b\b\b\b\b\b\b\b\b\b\b\b\b\b\b\b\b\b\b\b\b\b\b\b\b\b\b\b\b\b\b\b\b\b\b\b\b\b\b\b\b\b\b\b\b\b\b\b\b\b\b\b\b\b\b\b\b\b\b\b\b\b\b\b\b\b\b\b\b\b\b\b\b\b\b\b\b\b\b\b\b\b\b\b\b\b\b\b\b\b\b\b\b\b\b\b\b\b\b\b\b\b\b\b\b\b\b\b\b\b\b\b\b\b\b\b\b\b\b\b\b\b\b\b\b\b\b\b\b\b\b\b\b\b\b\b\b\b\b\b\b\b\b\b\b\b\b\b\b\b\b\b\b\b\b\b\b\b\b\b\b\b\b\b\b\b\b\b\b\b\b\b\b\b\b\b\b\b\b\b\b\b\b\b\b\b\b\b\b\b\b\b\b\b\b\b\b\b\b\b\b\b\b\b\b\b\b\b\b\b\b\b\b\b\b\b\b\b\b\b\b\b\b\b\b\b\b\b\b\b\b\b\b\b\b\b\b\b\b\b\b\b\b\b\b\b\b\b\b\b\b\b\b\b\b\b\b\b\b\b\b\b\b\b\b\b\b\b\b\b\b\b\b\b\b\b\b\b\b\b\b\b\b\b\b\b\b\b\b\b\b\b\b\b\b\b\b\b\b\b\b\b\b\b\b\b\b\b\b\b\b\b\b\b\b\b\b\b\b\b\b\b\b\b\b\b\b\b\b\b\b\b\b\b\b\b\b\b\b\b\b\b\b\b\b\b\b\b\b\b\b\b\b\b\b\b\b\b\b\b\b\b\b\b\b\b\b\b\b\b\b\b\b\b\b\b\b\b\b\b\b\b\b\b\b\b\b\b\b\b\b\b\b\b\b\b\b\b\b\b\b\b\b\b\b\b\b\b\b\b\b\b\b\b\b\b\b\b\b\b\b\b\b\b\b\b\b\b\b\b\b\b\b\b\b\b\b\b\b\b\b\b\b\b\b\b\b\b\b\b\b\b\b\b\b\b\b\b\b\b\b\b\b\b\b\b\b\b\b\b\b\b\b\b\b\b\b\b\b\b\b\b\b\b\b\b\b\b\b\b\b\b\b\b\b\b\b\b\b\b\b\b\b\b\b\b\b\b\b\b\b\b\b\b\b\b\b\b\b\b\b\b\b\b\b\b\b\b\b\b\b\b\b\b\b\b\b\b\b\b\b\b\b\b\b\b\b\b\b\b\b\b\b\b\b\b\b\b\b\b\b\b\b\b\b\b\b\b\b\b\b\b\b\b\b\b\b\b\b\b\b\b\b\b\b\b\b\b\b\b\b\b\b\b\b\b\b\b\b\b\n",
      "Epoch 2/3\n",
      "10/10 [==============================] - 13s 1s/step - loss: 10874.5254 - mse: 10874.5254 - mae: 68.7503 - val_loss: 10809.3340 - val_mse: 10809.3340 - val_mae: 65.2863\b\b\b\b\b\b\b\b\b\b\b\b\b\b\b\b\b\b\b\b\b\b\b\b\b\b\b\b\b\b\b\b\b\b\b\b\b\b\b\b\b\b\b\b\b\b\b\b\b\b\b\b\b\b\b\b\b\b\b\b\b\b\b\b\b\b\b\b\b\b\b\b\b\b\b\b\b\b\b\b\b\b\b\b\b\b\b\b\b\b\b\b\b\b\b\b\b\b\b\b\b\b\b\b\b\b\b\b\b\b\b\b\b\b\b\b\b\b\b\b\b\b\b\b\b\b\b\b\b\b\b\b\b\b\b\b\b\b\b\b\b\b\b\b\b\b\b\b\b\b\b\b\b\b\b\b\b\b\b\b\b\b\b\b\b\b\b\b\b\b\b\b\b\b\b\b\b\b\b\b\b\b\b\b\b\b\b\b\b\b\b\b\b\b\b\b\b\b\b\b\b\b\b\b\b\b\b\b\b\b\b\b\b\b\b\b\b\b\b\b\b\b\b\b\b\b\b\b\b\b\b\b\b\b\b\b\b\b\b\b\b\b\b\b\b\b\b\b\b\b\b\b\b\b\b\b\b\b\b\b\b\b\b\b\b\b\b\b\b\b\b\b\b\b\b\b\b\b\b\b\b\b\b\b\b\b\b\b\b\b\b\b\b\b\b\b\b\b\b\b\b\b\b\b\b\b\b\b\b\b\b\b\b\b\b\b\b\b\b\b\b\b\b\b\b\b\b\b\b\b\b\b\b\b\b\b\b\b\b\b\b\b\b\b\b\b\b\b\b\b\b\b\b\b\b\b\b\b\b\b\b\b\b\b\b\b\b\b\b\b\b\b\b\b\b\b\b\b\b\b\b\b\b\b\b\b\b\b\b\b\b\b\b\b\b\b\b\b\b\b\b\b\b\b\b\b\b\b\b\b\b\b\b\b\b\b\b\b\b\b\b\b\b\b\b\b\b\b\b\b\b\b\b\b\b\b\b\b\b\b\b\b\b\b\b\b\b\b\b\b\b\b\b\b\b\b\b\b\b\b\b\b\b\b\b\b\b\b\b\b\b\b\b\b\b\b\b\b\b\b\b\b\b\b\b\b\b\b\b\b\b\b\b\b\b\b\b\b\b\b\b\b\b\b\b\b\b\b\b\b\b\b\b\b\b\b\b\b\b\b\b\b\b\b\b\b\b\b\b\b\b\b\b\b\b\b\b\b\b\b\b\b\b\b\b\b\b\b\b\b\b\b\b\b\b\b\b\b\b\b\b\b\b\b\b\b\b\b\b\b\b\b\b\b\b\b\b\b\b\b\b\b\b\b\b\b\b\b\b\b\b\b\b\b\b\b\b\b\b\b\b\b\b\b\b\b\b\b\b\b\b\b\b\b\b\b\b\b\b\b\b\b\b\b\b\b\b\b\b\b\b\b\b\b\b\b\b\b\b\b\b\b\b\b\b\b\b\b\b\b\b\b\b\b\b\b\b\b\b\b\b\b\b\b\b\b\b\b\b\b\b\b\b\b\b\b\b\b\b\b\b\b\b\b\b\b\b\b\b\b\b\b\b\b\b\b\b\b\b\b\b\b\b\b\b\b\b\b\b\b\b\b\b\b\b\b\b\b\b\b\b\b\b\b\b\b\b\b\b\b\b\b\b\b\b\b\b\b\b\b\b\b\b\b\b\b\b\b\b\b\b\b\b\b\b\b\b\b\b\b\b\b\b\b\b\b\b\b\b\b\b\b\b\b\b\b\b\b\b\b\b\b\b\b\b\b\b\b\b\b\b\b\b\b\b\b\b\b\b\b\b\b\b\b\b\b\b\b\b\b\b\b\b\b\b\b\b\b\b\b\b\b\b\b\b\b\b\b\b\b\b\b\b\b\b\b\b\b\b\b\b\b\b\b\b\b\b\b\b\b\b\b\b\b\b\b\b\b\b\b\b\b\b\b\b\b\b\b\b\b\b\b\b\b\b\b\b\b\b\b\b\b\b\b\b\b\b\b\b\b\b\b\b\b\b\b\b\b\b\b\b\b\b\b\b\b\b\b\b\b\b\b\b\b\b\b\b\b\b\b\b\b\b\b\b\b\b\b\b\b\b\b\n",
      "Epoch 3/3\n",
      "10/10 [==============================] - 12s 1s/step - loss: 10301.9170 - mse: 10301.9170 - mae: 68.2103 - val_loss: 10543.4248 - val_mse: 10543.4248 - val_mae: 66.1081\b\b\b\b\b\b\b\b\b\b\b\b\b\b\b\b\b\b\b\b\b\b\b\b\b\b\b\b\b\b\b\b\b\b\b\b\b\b\b\b\b\b\b\b\b\b\b\b\b\b\b\b\b\b\b\b\b\b\b\b\b\b\b\b\b\b\b\b\b\b\b\b\b\b\b\b\b\b\b\b\b\b\b\b\b\b\b\b\b\b\b\b\b\b\b\b\b\b\b\b\b\b\b\b\b\b\b\b\b\b\b\b\b\b\b\b\b\b\b\b\b\b\b\b\b\b\b\b\b\b\b\b\b\b\b\b\b\b\b\b\b\b\b\b\b\b\b\b\b\b\b\b\b\b\b\b\b\b\b\b\b\b\b\b\b\b\b\b\b\b\b\b\b\b\b\b\b\b\b\b\b\b\b\b\b\b\b\b\b\b\b\b\b\b\b\b\b\b\b\b\b\b\b\b\b\b\b\b\b\b\b\b\b\b\b\b\b\b\b\b\b\b\b\b\b\b\b\b\b\b\b\b\b\b\b\b\b\b\b\b\b\b\b\b\b\b\b\b\b\b\b\b\b\b\b\b\b\b\b\b\b\b\b\b\b\b\b\b\b\b\b\b\b\b\b\b\b\b\b\b\b\b\b\b\b\b\b\b\b\b\b\b\b\b\b\b\b\b\b\b\b\b\b\b\b\b\b\b\b\b\b\b\b\b\b\b\b\b\b\b\b\b\b\b\b\b\b\b\b\b\b\b\b\b\b\b\b\b\b\b\b\b\b\b\b\b\b\b\b\b\b\b\b\b\b\b\b\b\b\b\b\b\b\b\b\b\b\b\b\b\b\b\b\b\b\b\b\b\b\b\b\b\b\b\b\b\b\b\b\b\b\b\b\b\b\b\b\b\b\b\b\b\b\b\b\b\b\b\b\b\b\b\b\b\b\b\b\b\b\b\b\b\b\b\b\b\b\b\b\b\b\b\b\b\b\b\b\b\b\b\b\b\b\b\b\b\b\b\b\b\b\b\b\b\b\b\b\b\b\b\b\b\b\b\b\b\b\b\b\b\b\b\b\b\b\b\b\b\b\b\b\b\b\b\b\b\b\b\b\b\b\b\b\b\b\b\b\b\b\b\b\b\b\b\b\b\b\b\b\b\b\b\b\b\b\b\b\b\b\b\b\b\b\b\b\b\b\b\b\b\b\b\b\b\b\b\b\b\b\b\b\b\b\b\b\b\b\b\b\b\b\b\b\b\b\b\b\b\b\b\b\b\b\b\b\b\b\b\b\b\b\b\b\b\b\b\b\b\b\b\b\b\b\b\b\b\b\b\b\b\b\b\b\b\b\b\b\b\b\b\b\b\b\b\b\b\b\b\b\b\b\b\b\b\b\b\b\b\b\b\b\b\b\b\b\b\b\b\b\b\b\b\b\b\b\b\b\b\b\b\b\b\b\b\b\b\b\b\b\b\b\b\b\b\b\b\b\b\b\b\b\b\b\b\b\b\b\b\b\b\b\b\b\b\b\b\b\b\b\b\b\b\b\b\b\b\b\b\b\b\b\b\b\b\b\b\b\b\b\b\b\b\b\b\b\b\b\b\b\b\b\b\b\b\b\b\b\b\b\b\b\b\b\b\b\b\b\b\b\b\b\b\b\b\b\b\b\b\b\b\b\b\b\b\b\b\b\b\b\b\b\b\b\b\b\b\b\b\b\b\b\b\b\b\b\b\b\b\b\b\b\b\b\b\b\b\b\b\b\b\b\b\b\b\b\b\b\b\b\b\b\b\b\b\b\b\b\b\b\b\b\b\b\b\b\b\b\b\b\b\b\b\b\b\b\b\b\b\b\b\b\b\b\b\b\b\b\b\b\b\b\b\b\b\b\b\b\b\b\b\b\b\b\b\b\b\b\b\b\b\b\b\b\b\b\b\b\b\b\b\b\b\b\b\b\b\b\b\b\b\b\b\b\b\b\b\b\b\b\b\b\b\b\b\b\b\b\b\b\b\b\b\b\b\b\b\b\b\b\b\b\b\b\b\b\b\b\b\b\b\b\b\b\b\b\b\b\b\n",
      "5/5 [==============================] - 12s 1s/step\b\b\b\b\b\b\b\b\b\b\b\b\b\b\b\b\b\b\b\b\b\b\b\b\b\b\b\b\b\b\b\b\b\b\b\b\b\b\b\b\b\b\b\b\b\b\b\b\b\b\b\b\b\b\b\b\b\b\b\b\b\b\b\b\b\b\b\b\b\b\b\b\b\b\b\b\b\b\b\b\b\b\b\b\b\b\b\b\b\b\b\b\b\b\b\b\b\b\b\b\b\b\b\b\b\b\b\b\b\b\b\b\b\b\b\b\b\b\b\b\b\b\b\b\b\b\b\b\b\b\b\b\b\b\b\b\b\b\b\b\b\b\b\b\b\b\b\b\b\b\b\b\b\b\b\b\b\b\b\b\b\b\b\b\b\b\b\b\b\b\b\b\b\b\b\b\b\b\b\b\b\b\b\b\b\b\b\b\b\b\b\b\b\b\b\b\b\b\b\b\b\b\b\b\b\b\b\b\b\b\b\b\b\b\b\b\b\b\b\b\b\b\b\b\b\b\b\b\n",
      "130.6274406730205\n"
     ]
    },
    {
     "name": "stderr",
     "output_type": "stream",
     "text": [
      "d:\\users\\liels\\onedrive\\desktop\\airbnbprice\\venv\\lib\\site-packages\\ipykernel_launcher.py:2: DtypeWarning: Columns (67) have mixed types.Specify dtype option on import or set low_memory=False.\n",
      "  \n"
     ]
    },
    {
     "name": "stdout",
     "output_type": "stream",
     "text": [
      "0 % done\n",
      "20 % done\n",
      "40 % done\n",
      "60 % done\n",
      "80 % done\n",
      "Epoch 1/3\n"
     ]
    }
   ],
   "source": [
    "from model.image_model import run_inceptionV3\n",
    "model, test_X,test_y, pred = run_inceptionV3()\n",
    "# data = pd.read_csv('../dataset/train.csv')\n"
   ]
  },
  {
   "cell_type": "markdown",
   "source": [
    "#### calculate brightness of image\n",
    "this function opens image in current working directory, converts to greyscale,\n",
    "and pulls a float value for brightness by average pixel brightness."
   ],
   "metadata": {
    "collapsed": false,
    "pycharm": {
     "name": "#%% md\n"
    }
   }
  },
  {
   "cell_type": "code",
   "execution_count": null,
   "metadata": {
    "id": "JsPZcYHeOgjL",
    "pycharm": {
     "is_executing": true
    }
   },
   "outputs": [],
   "source": [
    "def get_brightness(data):\n",
    "    img_src = Image.open('img.png').convert('L')\n",
    "    img_src.save(\"img_greyscale.png\") # saving this image to show comparison\n",
    "    stat = ImageStat.Stat(img_src)\n",
    "    brightness = stat.mean[0]\n",
    "    return brightness"
   ]
  },
  {
   "cell_type": "markdown",
   "source": [
    "#### downloading the images\n",
    "checks the image url, if there isn't thumbnail_url - put 0 as default.\n",
    "else creating request to downloading the image and calculating the brightness,\n",
    "then saving it to brightness.csv\n"
   ],
   "metadata": {
    "collapsed": false,
    "pycharm": {
     "name": "#%% md\n"
    }
   }
  },
  {
   "cell_type": "code",
   "execution_count": null,
   "metadata": {
    "id": "g9hk5Vs8OGwX",
    "pycharm": {
     "is_executing": true
    }
   },
   "outputs": [],
   "source": [
    "def get_img_from_url(data):\n",
    "    bright_list = {'brightness': []}\n",
    "    for i in range(len(data)):\n",
    "        try:\n",
    "          if str(data['thumbnail_url'][i]) == 'nan':\n",
    "              data['brightness'] = 0\n",
    "              bright_list['brightness'].append(0)\n",
    "              continue\n",
    "          response = requests.get(data['thumbnail_url'][i], stream=True)\n",
    "          with open('img.png', 'wb') as out_file:\n",
    "              shutil.copyfileobj(response.raw, out_file)\n",
    "          del response\n",
    "          brightness = get_brightness(data)\n",
    "          bright_list['brightness'].append(brightness)\n",
    "\n",
    "          if i % 100 == 0:\n",
    "            print(\"len\", len(bright_list['brightness']), \"i\", i)\n",
    "            df = pd.DataFrame(bright_list)\n",
    "            df.to_csv('../dataset/brightness.csv')\n",
    "        except:\n",
    "          bright_list['brightness'].append(0)\n",
    "            \n",
    "    return bright_list\n",
    "\n"
   ]
  },
  {
   "cell_type": "code",
   "execution_count": null,
   "metadata": {
    "id": "5rl0NSBkPHho",
    "pycharm": {
     "is_executing": true
    }
   },
   "outputs": [],
   "source": [
    "#\n",
    "# bright_list = get_img_from_url(data)\n",
    "# df = pd.DataFrame(bright_list)\n",
    "# df.to_csv('../dataset/brightness.csv')\n",
    "\n"
   ]
  },
  {
   "cell_type": "markdown",
   "source": [
    "### image model\n",
    "for this section we use exist model that using inception v3 that was pre-train on image_net dataset.\n",
    "the above model can be found this git: https://github.com/moe18/Image-Based-Airbnb-Pricing-Algorithm.git\n"
   ],
   "metadata": {
    "id": "fgNhpY1uwKoL",
    "pycharm": {
     "name": "#%% md\n"
    }
   }
  },
  {
   "cell_type": "code",
   "execution_count": null,
   "metadata": {
    "id": "ej_MxjetUokq",
    "colab": {
     "base_uri": "https://localhost:8080/"
    },
    "outputId": "a4436519-4f52-4c12-cb29-236bec7f2ff2",
    "pycharm": {
     "is_executing": true
    }
   },
   "outputs": [],
   "source": [
    "Airbnb_data = pd.read_csv('../dataset/listings.csv')\n",
    "Airbnb_data['price'] = Airbnb_data['price'].replace('[\\$,]', '', regex=True).astype(float)\n",
    "Airbnb_data = Airbnb_data.sample(frac=1)\n",
    "\n",
    "# remove all listings where the price is less then 500\n",
    "Airbnb_data = Airbnb_data[Airbnb_data.price < 500]\n",
    "\n",
    "# how many listings have a price of zero\n",
    "len(Airbnb_data.loc[Airbnb_data['price'] == 0])\n",
    "# if the price is less then 10 revome the listing\n",
    "Airbnb_data = Airbnb_data[Airbnb_data.price > 10]"
   ]
  },
  {
   "cell_type": "markdown",
   "source": [
    "creating request to 6000 images, resizing them and return the images list and price list"
   ],
   "metadata": {
    "collapsed": false,
    "pycharm": {
     "name": "#%% md\n"
    }
   }
  },
  {
   "cell_type": "code",
   "source": [
    "def get_img():\n",
    "  img_list = []\n",
    "  price_list = []\n",
    "  data_dict=()\n",
    "  for i in range(502):#len(Airbnb_data['price'])):\n",
    "    try:\n",
    "      if i % 100 == 0:\n",
    "        # gets 6,000 images\n",
    "        print(int((i/500)*100),'% done')#len(data['price']))*100)\n",
    "      response = requests.get(Airbnb_data['picture_url'][i])\n",
    "      img = Image.open(BytesIO(response.content)).resize([224,224])\n",
    "\n",
    "      img = np.array(img) / 255.0 # makes imputs [0,1]\n",
    "      if img.shape == (224,224,3):\n",
    "        img_list.append(img)\n",
    "        price_list.append(Airbnb_data.price[i])\n",
    "    except (KeyError or OSError):\n",
    "      pass\n",
    "  return img_list, price_list"
   ],
   "metadata": {
    "id": "YSX2Fab7DAap",
    "pycharm": {
     "is_executing": true
    }
   },
   "execution_count": null,
   "outputs": []
  },
  {
   "cell_type": "code",
   "source": [
    "X, y = get_img()\n",
    "len(X)"
   ],
   "metadata": {
    "colab": {
     "base_uri": "https://localhost:8080/"
    },
    "id": "hGq3bgWkDA4k",
    "outputId": "130b9d73-0c3d-4f6f-aeb7-feea0a649aa9",
    "pycharm": {
     "is_executing": true
    }
   },
   "execution_count": null,
   "outputs": []
  },
  {
   "cell_type": "markdown",
   "source": [
    "split up the training set and test set\n"
   ],
   "metadata": {
    "collapsed": false,
    "pycharm": {
     "name": "#%% md\n"
    }
   }
  },
  {
   "cell_type": "code",
   "source": [
    "train_X = np.asarray(X[:350])\n",
    "train_y = np.array(y[:350])\n",
    "test_X = np.asarray(X[350:])\n",
    "test_y = np.array(y[350:])\n",
    "len(test_y)"
   ],
   "metadata": {
    "colab": {
     "base_uri": "https://localhost:8080/"
    },
    "id": "zU9V59SpDDWT",
    "outputId": "b27b37ea-78f2-4005-9e77-72e831f9e2f5",
    "pycharm": {
     "is_executing": true
    }
   },
   "execution_count": null,
   "outputs": []
  },
  {
   "cell_type": "markdown",
   "source": [
    "define the InceptionV3 model and the image model layers.\n",
    "then building, compiling and fitting the image model."
   ],
   "metadata": {
    "collapsed": false,
    "pycharm": {
     "name": "#%% md\n"
    }
   }
  },
  {
   "cell_type": "code",
   "source": [
    "# create the base pre-trained model\n",
    "base_model = InceptionV3(weights='imagenet', include_top=False)\n",
    "\n",
    "# add a global spatial average pooling layer\n",
    "x = base_model.output\n",
    "x = Dropout(.5)(x)\n",
    "x = GlobalAveragePooling2D()(x)\n",
    "x = Dropout(.5)(x)\n",
    "# let's add a fully-connected layer\n",
    "x = Dense(1024, activation='selu')(x)\n",
    "x = Dropout(.5)(x)\n",
    "# and output layer\n",
    "predictions = Dense(1)(x)\n",
    "\n",
    "# this is the model we will train\n",
    "model = Model(inputs=base_model.input, outputs=predictions)\n",
    "\n",
    "# first: train only the top layers (which were randomly initialized)\n",
    "# i.e. freeze all convolutional InceptionV3 layers\n",
    "for layer in base_model.layers:\n",
    "    layer.trainable = False\n",
    "\n",
    "# compile the model (should be done *after* setting layers to non-trainable)\n",
    "model.compile(optimizer='rmsprop', loss='mse',metrics=['mse','mae'])\n",
    "\n",
    "# train the model on the new data for a few epochs\n",
    "model.fit(train_X[:200],train_y[:200],steps_per_epoch=10, epochs=3,validation_split = 0.2,validation_steps=10)\n"
   ],
   "metadata": {
    "colab": {
     "base_uri": "https://localhost:8080/"
    },
    "id": "iz1Yq7gDDHbr",
    "outputId": "966336c8-1954-4cad-bf9c-1d850b8fc743",
    "pycharm": {
     "is_executing": true
    }
   },
   "execution_count": null,
   "outputs": []
  },
  {
   "cell_type": "code",
   "source": [
    "pred = model.predict(test_X)\n",
    "print(np.sqrt(np.mean((pred - test_y)**2)))"
   ],
   "metadata": {
    "colab": {
     "base_uri": "https://localhost:8080/"
    },
    "id": "MYx8_gwNDJSq",
    "outputId": "05d8148f-24c0-41d4-913e-7789fe6fa7d8",
    "pycharm": {
     "is_executing": true
    }
   },
   "execution_count": null,
   "outputs": []
  },
  {
   "cell_type": "code",
   "source": [
    "# # at this point, the top layers are well trained and we can start fine-tuning\n",
    "# # convolutional layers from inception V3. We will freeze the bottom N layers\n",
    "# # and train the remaining top layers.\n",
    "#\n",
    "# # let's visualize layer names and layer indices to see how many layers\n",
    "# # we should freeze:\n",
    "# for i, layer in enumerate(base_model.layers):\n",
    "#    print(i, layer.name)\n",
    "#\n",
    "# # we chose to train the top 2 inception blocks, i.e. we will freeze\n",
    "# # the first 249 layers and unfreeze the rest:\n",
    "# for layer in model.layers[:249]:\n",
    "#    layer.trainable = False\n",
    "# for layer in model.layers[249:]:\n",
    "#    layer.trainable = True\n",
    "#\n",
    "# # we need to recompile the model for these modifications to take effect\n",
    "# # we use SGD with a low learning rate\n",
    "# # from keras.optimizers import SGD\n",
    "# model.compile(optimizer=SGD(learning_rate=0.00001, momentum=0.99), loss='mse',metrics=['mse','mae'])\n",
    "#\n",
    "# # we train our model again (this time fine-tuning the top 2 inception blocks\n",
    "# # alongside the top Dense layers\n",
    "# model.fit(train_X[:200],train_y[:200],steps_per_epoch=10, epochs=3,validation_split = 0.2,validation_steps=10)"
   ],
   "metadata": {
    "id": "RwWH50EKDLOf",
    "pycharm": {
     "is_executing": true
    }
   },
   "execution_count": null,
   "outputs": []
  },
  {
   "cell_type": "code",
   "source": [
    "pred = model.predict(test_X)\n",
    "print(np.sqrt(np.mean((pred - test_y)**2)))"
   ],
   "metadata": {
    "colab": {
     "base_uri": "https://localhost:8080/"
    },
    "id": "FdP7lkS5BCGB",
    "outputId": "1d7905ff-8493-466f-c710-fc966d1db37f",
    "pycharm": {
     "is_executing": true
    }
   },
   "execution_count": null,
   "outputs": []
  },
  {
   "cell_type": "markdown",
   "source": [
    "actual prediction vs. model prediction"
   ],
   "metadata": {
    "collapsed": false,
    "pycharm": {
     "name": "#%% md\n"
    }
   }
  },
  {
   "cell_type": "code",
   "source": [
    "plt.figure(figsize=(20,12))\n",
    "for n in range(10):\n",
    "  plt.subplot(6,5,n+1)\n",
    "  plt.imshow(test_X[n])\n",
    "  plt.title(pred[n][0])\n",
    "  plt.axis('off')\n",
    "_ = plt.suptitle(\"Model predictions\")"
   ],
   "metadata": {
    "colab": {
     "base_uri": "https://localhost:8080/",
     "height": 322
    },
    "id": "CQtZyWz1DNuh",
    "outputId": "b6ffbcb9-a9af-4ba4-a0ec-16b3c705b4f4",
    "pycharm": {
     "is_executing": true
    }
   },
   "execution_count": null,
   "outputs": []
  },
  {
   "cell_type": "code",
   "source": [
    "plt.figure(figsize=(20,12))\n",
    "for n in range(10):\n",
    "  plt.subplot(6,5,n+1)\n",
    "  plt.imshow(test_X[n])\n",
    "  plt.title(test_y[n])\n",
    "  plt.axis('off')\n",
    "_ = plt.suptitle(\"actual\")"
   ],
   "metadata": {
    "colab": {
     "base_uri": "https://localhost:8080/",
     "height": 322
    },
    "id": "qFVkoBPYDOXk",
    "outputId": "ff45a318-0343-4eb6-ef65-a290e88c000c",
    "pycharm": {
     "is_executing": true
    }
   },
   "execution_count": null,
   "outputs": []
  },
  {
   "cell_type": "code",
   "source": [
    "model.save(\"../dataset/image_model_500_new\")\n",
    "model.save(\"../dataset/image_model_500_new.h5\")\n",
    "\n"
   ],
   "metadata": {
    "colab": {
     "base_uri": "https://localhost:8080/"
    },
    "id": "IZfVVT3sui9D",
    "outputId": "3c7aeb99-7158-4313-a4cd-453a5909bbd6",
    "pycharm": {
     "is_executing": true
    }
   },
   "execution_count": null,
   "outputs": []
  },
  {
   "cell_type": "markdown",
   "source": [
    "getting the images and making prediction, saving the prediction to new csv"
   ],
   "metadata": {
    "collapsed": false,
    "pycharm": {
     "name": "#%% md\n"
    }
   },
   "execution_count": 20
  },
  {
   "cell_type": "code",
   "source": [
    "def get_img_from_url(data):\n",
    "    import math\n",
    "    price_by_model_list = {'price_by_model': []}\n",
    "    for i in range(len(data)):\n",
    "        try:\n",
    "          pred = []\n",
    "          if str(data['thumbnail_url'][i]) == 'nan':\n",
    "            # data['price_by_model'] = 0\n",
    "            price_by_model_list['price_by_model'].append(0)\n",
    "            continue\n",
    "          response = requests.get(data['thumbnail_url'][i])\n",
    "          img = Image.open(BytesIO(response.content)).resize([224,224])\n",
    "          img = np.array(img) / 255.0 # makes imputs [0,1]\n",
    "          perd = model.predict(np.asarray([img]))[0][0]\n",
    "          price_by_model_list['price_by_model'].append(perd)\n",
    "          if i % 100 == 0:\n",
    "            print(i, perd)\n",
    "            print(\"len\", len(price_by_model_list['price_by_model']), \"i\", i)\n",
    "            df = pd.DataFrame(price_by_model_list)\n",
    "            df.to_csv('../dataset/price_by_model_new.csv')\n",
    "        except:\n",
    "          price_by_model_list['price_by_model'].append(0)\n",
    "            \n",
    "    return price_by_model_list\n"
   ],
   "metadata": {
    "id": "t7_BVYNntvei",
    "pycharm": {
     "is_executing": true
    }
   },
   "execution_count": null,
   "outputs": []
  },
  {
   "cell_type": "code",
   "source": [
    "data = pd.read_csv('../dataset/train.csv')\n",
    "price_by_model_list = get_img_from_url(data)\n",
    "df = pd.DataFrame(price_by_model_list)\n",
    "df.to_csv('../dataset/price_by_model_new.csv')"
   ],
   "metadata": {
    "colab": {
     "base_uri": "https://localhost:8080/"
    },
    "id": "Y80bOe4xwMM9",
    "outputId": "ee124365-45b0-4b34-ae64-7b4613acfcd7",
    "pycharm": {
     "name": "#%%\n",
     "is_executing": true
    }
   },
   "execution_count": null,
   "outputs": []
  }
 ],
 "metadata": {
  "accelerator": "GPU",
  "colab": {
   "collapsed_sections": [],
   "name": "Untitled1.ipynb",
   "provenance": []
  },
  "gpuClass": "standard",
  "kernelspec": {
   "name": "python3",
   "language": "python",
   "display_name": "Python 3 (ipykernel)"
  },
  "language_info": {
   "name": "python"
  }
 },
 "nbformat": 4,
 "nbformat_minor": 0
}