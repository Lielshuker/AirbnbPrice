{
 "cells": [
  {
   "cell_type": "markdown",
   "id": "326a2f81",
   "metadata": {},
   "source": [
    "# Workshop in  Data Science - Final Project"
   ]
  },
  {
   "cell_type": "markdown",
   "id": "43bb26be",
   "metadata": {},
   "source": [
    "### Submitted by: Kobi Mizrahi, Liel Shuker and Gil Or "
   ]
  },
  {
   "cell_type": "markdown",
   "id": "93940d25",
   "metadata": {},
   "source": [
    "In this project we implemented a solution for a tabular data prediction task.\n",
    "The project includes 6 stages: \n",
    "\n",
    "1. EDA \n",
    "2. Data Cleaning and Feature Engeeniring \n",
    "3. Model Training, Prediction and Evaluation \n",
    "4. Model Investigation and Error Analysis\n",
    "5. Conclusions Implementation\n",
    "\n",
    "Our data is the Airbnb Price Prediction dataset from Kaggle - https://www.kaggle.com/datasets/stevezhenghp/airbnb-price-prediction.\n",
    "There are no detalis attached to the data and the accumulation process. The data includs details about airbnb properties including a log price cloumn we assume, by looking at some examples, refers to USD price per night. We will try to predict the log price column.\n",
    "\n",
    "This project was written with an awareness to the existens of public notebooks handling this data. We reviewed the existing solutions and tried to differ our solution. Our new approaches include handlimg images column, erroe analysis and implementation of the analysis results and more."
   ]
  },
  {
   "cell_type": "markdown",
   "id": "27034f26",
   "metadata": {},
   "source": [
    "### 0.1 Import Python Libraries\n"
   ]
  },
  {
   "cell_type": "code",
   "execution_count": 116,
   "id": "e6bca9d8",
   "metadata": {},
   "outputs": [],
   "source": [
    "import pandas as pd\n",
    "import numpy as np\n",
    "import datetime\n",
    "import seaborn as sns\n",
    "import matplotlib.pyplot as plt\n",
    "import sklearn\n",
    "from sklearn.model_selection import train_test_split\n",
    "import xgboost as xg\n",
    "from sklearn.metrics import r2_score, mean_absolute_percentage_error, mean_absolute_error, mean_squared_error\n",
    "from utils import *\n",
    "import shap"
   ]
  },
  {
   "cell_type": "markdown",
   "id": "8f774670",
   "metadata": {},
   "source": [
    "### 0.2 Uploading the Dataset\n"
   ]
  },
  {
   "cell_type": "code",
   "execution_count": 117,
   "id": "4b415d56",
   "metadata": {},
   "outputs": [],
   "source": [
    "from data_preparation.imputing_methods import imputing_with_most_frequent\n",
    "\n",
    "data = pd.read_csv('dataset/train.csv')\n",
    "data = data[data['log_price'] != 0]   # while working we accidently ancountered in log price 0."
   ]
  },
  {
   "cell_type": "markdown",
   "id": "bee3a2a1",
   "metadata": {},
   "source": [
    "## 1. EDA"
   ]
  },
  {
   "cell_type": "markdown",
   "id": "331e6598",
   "metadata": {},
   "source": [
    "First of all, we would like to denote that in order to keep this notebook consice, we chose to present some selected points of the EDA process. While working on the project we did a more extensive exploration process."
   ]
  },
  {
   "cell_type": "code",
   "execution_count": 118,
   "id": "88cebe42",
   "metadata": {},
   "outputs": [
    {
     "data": {
      "text/plain": "(74110, 29)"
     },
     "execution_count": 118,
     "metadata": {},
     "output_type": "execute_result"
    }
   ],
   "source": [
    "data.shape"
   ]
  },
  {
   "cell_type": "code",
   "execution_count": 119,
   "id": "89b83883",
   "metadata": {},
   "outputs": [
    {
     "data": {
      "text/plain": "         id  log_price property_type        room_type  \\\n0  6901257   5.010635   Apartment     Entire home/apt   \n1  6304928   5.129899   Apartment     Entire home/apt   \n2  7919400   4.976734   Apartment     Entire home/apt   \n3  13418779  6.620073   House         Entire home/apt   \n4  3808709   4.744932   Apartment     Entire home/apt   \n\n                                                                                                                                                                                                                                                                                                                 amenities  \\\n0  {\"Wireless Internet\",\"Air conditioning\",Kitchen,Heating,\"Family/kid friendly\",Essentials,\"Hair dryer\",Iron,\"translation missing: en.hosting_amenity_50\"}                                                                                                                                                                  \n1  {\"Wireless Internet\",\"Air conditioning\",Kitchen,Heating,\"Family/kid friendly\",Washer,Dryer,\"Smoke detector\",\"Fire extinguisher\",Essentials,Shampoo,Hangers,\"Hair dryer\",Iron,\"translation missing: en.hosting_amenity_50\"}                                                                                                \n2  {TV,\"Cable TV\",\"Wireless Internet\",\"Air conditioning\",Kitchen,Breakfast,\"Buzzer/wireless intercom\",Heating,\"Family/kid friendly\",\"Smoke detector\",\"Carbon monoxide detector\",\"Fire extinguisher\",Essentials,Shampoo,Hangers,\"Hair dryer\",Iron,\"Laptop friendly workspace\",\"translation missing: en.hosting_amenity_50\"}   \n3  {TV,\"Cable TV\",Internet,\"Wireless Internet\",Kitchen,\"Indoor fireplace\",\"Buzzer/wireless intercom\",Heating,Washer,Dryer,\"Smoke detector\",\"Carbon monoxide detector\",\"First aid kit\",\"Fire extinguisher\",Essentials}                                                                                                        \n4  {TV,Internet,\"Wireless Internet\",\"Air conditioning\",Kitchen,\"Elevator in building\",Heating,\"Smoke detector\",\"Carbon monoxide detector\",\"Fire extinguisher\",Essentials,Shampoo}                                                                                                                                            \n\n   accommodates  bathrooms  bed_type cancellation_policy  cleaning_fee  ...  \\\n0  3             1.0        Real Bed  strict              True          ...   \n1  7             1.0        Real Bed  strict              True          ...   \n2  5             1.0        Real Bed  moderate            True          ...   \n3  4             1.0        Real Bed  flexible            True          ...   \n4  2             1.0        Real Bed  moderate            True          ...   \n\n    latitude   longitude                                      name  \\\n0  40.696524 -73.991617   Beautiful brownstone 1-bedroom             \n1  40.766115 -73.989040   Superb 3BR Apt Located Near Times Square   \n2  40.808110 -73.943756   The Garden Oasis                           \n3  37.772004 -122.431619  Beautiful Flat in the Heart of SF!         \n4  38.925627 -77.034596   Great studio in midtown DC                 \n\n      neighbourhood number_of_reviews review_scores_rating  \\\n0  Brooklyn Heights  2                 100.0                 \n1  Hell's Kitchen    6                 93.0                  \n2  Harlem            10                92.0                  \n3  Lower Haight      0                NaN                    \n4  Columbia Heights  4                 40.0                  \n\n                                                                                   thumbnail_url  \\\n0  https://a0.muscache.com/im/pictures/6d7cbbf7-c034-459c-bc82-6522c957627c.jpg?aki_policy=small   \n1  https://a0.muscache.com/im/pictures/348a55fe-4b65-452a-b48a-bfecb3b58a66.jpg?aki_policy=small   \n2  https://a0.muscache.com/im/pictures/6fae5362-9e3a-4fa9-aa54-bbd5ea26538d.jpg?aki_policy=small   \n3  https://a0.muscache.com/im/pictures/72208dad-9c86-41ea-a735-43d933111063.jpg?aki_policy=small   \n4  NaN                                                                                             \n\n   zipcode bedrooms  beds  \n0  11201    1.0      1.0   \n1  10019    3.0      3.0   \n2  10027    1.0      3.0   \n3  94117.0  2.0      2.0   \n4  20009    0.0      1.0   \n\n[5 rows x 29 columns]",
      "text/html": "<div>\n<style scoped>\n    .dataframe tbody tr th:only-of-type {\n        vertical-align: middle;\n    }\n\n    .dataframe tbody tr th {\n        vertical-align: top;\n    }\n\n    .dataframe thead th {\n        text-align: right;\n    }\n</style>\n<table border=\"1\" class=\"dataframe\">\n  <thead>\n    <tr style=\"text-align: right;\">\n      <th></th>\n      <th>id</th>\n      <th>log_price</th>\n      <th>property_type</th>\n      <th>room_type</th>\n      <th>amenities</th>\n      <th>accommodates</th>\n      <th>bathrooms</th>\n      <th>bed_type</th>\n      <th>cancellation_policy</th>\n      <th>cleaning_fee</th>\n      <th>...</th>\n      <th>latitude</th>\n      <th>longitude</th>\n      <th>name</th>\n      <th>neighbourhood</th>\n      <th>number_of_reviews</th>\n      <th>review_scores_rating</th>\n      <th>thumbnail_url</th>\n      <th>zipcode</th>\n      <th>bedrooms</th>\n      <th>beds</th>\n    </tr>\n  </thead>\n  <tbody>\n    <tr>\n      <th>0</th>\n      <td>6901257</td>\n      <td>5.010635</td>\n      <td>Apartment</td>\n      <td>Entire home/apt</td>\n      <td>{\"Wireless Internet\",\"Air conditioning\",Kitchen,Heating,\"Family/kid friendly\",Essentials,\"Hair dryer\",Iron,\"translation missing: en.hosting_amenity_50\"}</td>\n      <td>3</td>\n      <td>1.0</td>\n      <td>Real Bed</td>\n      <td>strict</td>\n      <td>True</td>\n      <td>...</td>\n      <td>40.696524</td>\n      <td>-73.991617</td>\n      <td>Beautiful brownstone 1-bedroom</td>\n      <td>Brooklyn Heights</td>\n      <td>2</td>\n      <td>100.0</td>\n      <td>https://a0.muscache.com/im/pictures/6d7cbbf7-c034-459c-bc82-6522c957627c.jpg?aki_policy=small</td>\n      <td>11201</td>\n      <td>1.0</td>\n      <td>1.0</td>\n    </tr>\n    <tr>\n      <th>1</th>\n      <td>6304928</td>\n      <td>5.129899</td>\n      <td>Apartment</td>\n      <td>Entire home/apt</td>\n      <td>{\"Wireless Internet\",\"Air conditioning\",Kitchen,Heating,\"Family/kid friendly\",Washer,Dryer,\"Smoke detector\",\"Fire extinguisher\",Essentials,Shampoo,Hangers,\"Hair dryer\",Iron,\"translation missing: en.hosting_amenity_50\"}</td>\n      <td>7</td>\n      <td>1.0</td>\n      <td>Real Bed</td>\n      <td>strict</td>\n      <td>True</td>\n      <td>...</td>\n      <td>40.766115</td>\n      <td>-73.989040</td>\n      <td>Superb 3BR Apt Located Near Times Square</td>\n      <td>Hell's Kitchen</td>\n      <td>6</td>\n      <td>93.0</td>\n      <td>https://a0.muscache.com/im/pictures/348a55fe-4b65-452a-b48a-bfecb3b58a66.jpg?aki_policy=small</td>\n      <td>10019</td>\n      <td>3.0</td>\n      <td>3.0</td>\n    </tr>\n    <tr>\n      <th>2</th>\n      <td>7919400</td>\n      <td>4.976734</td>\n      <td>Apartment</td>\n      <td>Entire home/apt</td>\n      <td>{TV,\"Cable TV\",\"Wireless Internet\",\"Air conditioning\",Kitchen,Breakfast,\"Buzzer/wireless intercom\",Heating,\"Family/kid friendly\",\"Smoke detector\",\"Carbon monoxide detector\",\"Fire extinguisher\",Essentials,Shampoo,Hangers,\"Hair dryer\",Iron,\"Laptop friendly workspace\",\"translation missing: en.hosting_amenity_50\"}</td>\n      <td>5</td>\n      <td>1.0</td>\n      <td>Real Bed</td>\n      <td>moderate</td>\n      <td>True</td>\n      <td>...</td>\n      <td>40.808110</td>\n      <td>-73.943756</td>\n      <td>The Garden Oasis</td>\n      <td>Harlem</td>\n      <td>10</td>\n      <td>92.0</td>\n      <td>https://a0.muscache.com/im/pictures/6fae5362-9e3a-4fa9-aa54-bbd5ea26538d.jpg?aki_policy=small</td>\n      <td>10027</td>\n      <td>1.0</td>\n      <td>3.0</td>\n    </tr>\n    <tr>\n      <th>3</th>\n      <td>13418779</td>\n      <td>6.620073</td>\n      <td>House</td>\n      <td>Entire home/apt</td>\n      <td>{TV,\"Cable TV\",Internet,\"Wireless Internet\",Kitchen,\"Indoor fireplace\",\"Buzzer/wireless intercom\",Heating,Washer,Dryer,\"Smoke detector\",\"Carbon monoxide detector\",\"First aid kit\",\"Fire extinguisher\",Essentials}</td>\n      <td>4</td>\n      <td>1.0</td>\n      <td>Real Bed</td>\n      <td>flexible</td>\n      <td>True</td>\n      <td>...</td>\n      <td>37.772004</td>\n      <td>-122.431619</td>\n      <td>Beautiful Flat in the Heart of SF!</td>\n      <td>Lower Haight</td>\n      <td>0</td>\n      <td>NaN</td>\n      <td>https://a0.muscache.com/im/pictures/72208dad-9c86-41ea-a735-43d933111063.jpg?aki_policy=small</td>\n      <td>94117.0</td>\n      <td>2.0</td>\n      <td>2.0</td>\n    </tr>\n    <tr>\n      <th>4</th>\n      <td>3808709</td>\n      <td>4.744932</td>\n      <td>Apartment</td>\n      <td>Entire home/apt</td>\n      <td>{TV,Internet,\"Wireless Internet\",\"Air conditioning\",Kitchen,\"Elevator in building\",Heating,\"Smoke detector\",\"Carbon monoxide detector\",\"Fire extinguisher\",Essentials,Shampoo}</td>\n      <td>2</td>\n      <td>1.0</td>\n      <td>Real Bed</td>\n      <td>moderate</td>\n      <td>True</td>\n      <td>...</td>\n      <td>38.925627</td>\n      <td>-77.034596</td>\n      <td>Great studio in midtown DC</td>\n      <td>Columbia Heights</td>\n      <td>4</td>\n      <td>40.0</td>\n      <td>NaN</td>\n      <td>20009</td>\n      <td>0.0</td>\n      <td>1.0</td>\n    </tr>\n  </tbody>\n</table>\n<p>5 rows × 29 columns</p>\n</div>"
     },
     "execution_count": 119,
     "metadata": {},
     "output_type": "execute_result"
    }
   ],
   "source": [
    "data.head()"
   ]
  },
  {
   "cell_type": "code",
   "execution_count": 120,
   "id": "1044e788",
   "metadata": {},
   "outputs": [
    {
     "data": {
      "text/plain": "Index(['id', 'log_price', 'property_type', 'room_type', 'amenities',\n       'accommodates', 'bathrooms', 'bed_type', 'cancellation_policy',\n       'cleaning_fee', 'city', 'description', 'first_review',\n       'host_has_profile_pic', 'host_identity_verified', 'host_response_rate',\n       'host_since', 'instant_bookable', 'last_review', 'latitude',\n       'longitude', 'name', 'neighbourhood', 'number_of_reviews',\n       'review_scores_rating', 'thumbnail_url', 'zipcode', 'bedrooms', 'beds'],\n      dtype='object')"
     },
     "execution_count": 120,
     "metadata": {},
     "output_type": "execute_result"
    }
   ],
   "source": [
    "data.columns"
   ]
  },
  {
   "cell_type": "markdown",
   "id": "3eb8f311",
   "metadata": {},
   "source": [
    "Our data consists numerical values, categorial values, boolean values, strings, dates and images (by url link)."
   ]
  },
  {
   "cell_type": "code",
   "execution_count": 121,
   "id": "fd57b4b7",
   "metadata": {},
   "outputs": [],
   "source": [
    "# We will drop columns that we believe will not be helpfull for the model\n",
    "columns_to_drop = ['zipcode', 'id', 'description', 'name']"
   ]
  },
  {
   "cell_type": "markdown",
   "id": "5b5d2b99",
   "metadata": {},
   "source": [
    "### **Data Types:**"
   ]
  },
  {
   "cell_type": "code",
   "execution_count": 122,
   "id": "fa5d693b",
   "metadata": {
    "scrolled": true
   },
   "outputs": [
    {
     "data": {
      "text/plain": "id                        int64  \nlog_price                 float64\nproperty_type             object \nroom_type                 object \namenities                 object \naccommodates              int64  \nbathrooms                 float64\nbed_type                  object \ncancellation_policy       object \ncleaning_fee              bool   \ncity                      object \ndescription               object \nfirst_review              object \nhost_has_profile_pic      object \nhost_identity_verified    object \nhost_response_rate        object \nhost_since                object \ninstant_bookable          object \nlast_review               object \nlatitude                  float64\nlongitude                 float64\nname                      object \nneighbourhood             object \nnumber_of_reviews         int64  \nreview_scores_rating      float64\nthumbnail_url             object \nzipcode                   object \nbedrooms                  float64\nbeds                      float64\ndtype: object"
     },
     "execution_count": 122,
     "metadata": {},
     "output_type": "execute_result"
    }
   ],
   "source": [
    "data.dtypes"
   ]
  },
  {
   "cell_type": "markdown",
   "id": "1a760ed5",
   "metadata": {},
   "source": [
    "Get to know the object type data values"
   ]
  },
  {
   "cell_type": "code",
   "execution_count": 123,
   "id": "a3ab89e9",
   "metadata": {},
   "outputs": [
    {
     "data": {
      "text/plain": "                                                                                                                                                                                                                                                                                                                                                                                                                                                                                                                                                                                                                                                                                                                                                                                                                                                                                                                                                                                                                                                                                                                                                                                                                                                                                                                                                                                                               unique\nproperty_type           [Apartment, House, Condominium, Loft, Townhouse, Hostel, Guest suite, Bed & Breakfast, Bungalow, Guesthouse, Dorm, Other, Camper/RV, Villa, Boutique hotel, Timeshare, In-law, Boat, Serviced apartment, Castle, Cabin, Treehouse, Tipi, Vacation home, Tent, Hut, Casa particular, Chalet, Yurt, Earth House, Parking Space, Train, Cave, Lighthouse, Island]                                                                                                                                                                                                                                                                                                                                                                                                                                                                                                                                                                                                                                                                                                                                                                                                                                                                                                                                                                                                                               \nroom_type               [Entire home/apt, Private room, Shared room]                                                                                                                                                                                                                                                                                                                                                                                                                                                                                                                                                                                                                                                                                                                                                                                                                                                                                                                                                                                                                                                                                                                                                                                                                                                                                                                                                 \nbed_type                [Real Bed, Futon, Pull-out Sofa, Couch, Airbed]                                                                                                                                                                                                                                                                                                                                                                                                                                                                                                                                                                                                                                                                                                                                                                                                                                                                                                                                                                                                                                                                                                                                                                                                                                                                                                                                              \ncancellation_policy     [strict, moderate, flexible, super_strict_30, super_strict_60]                                                                                                                                                                                                                                                                                                                                                                                                                                                                                                                                                                                                                                                                                                                                                                                                                                                                                                                                                                                                                                                                                                                                                                                                                                                                                                                               \ncity                    [NYC, SF, DC, LA, Chicago, Boston]                                                                                                                                                                                                                                                                                                                                                                                                                                                                                                                                                                                                                                                                                                                                                                                                                                                                                                                                                                                                                                                                                                                                                                                                                                                                                                                                                           \nfirst_review            [2016-06-18, 2017-08-05, 2017-04-30, nan, 2015-05-12, 2017-08-27, 2017-03-10, 2016-12-16, 2016-02-13, 2017-04-03, 2013-04-28, 2015-07-02, 2017-02-18, 2017-03-25, 2016-08-14, 2016-07-16, 2015-09-26, 2017-07-30, 2016-06-26, 2015-10-10, 2016-07-23, 2014-10-20, 2016-07-17, 2017-07-03, 2015-12-30, 2016-03-20, 2017-01-01, 2011-11-26, 2011-05-20, 2017-03-18, 2017-07-07, 2014-03-24, 2017-07-24, 2014-01-03, 2015-08-12, 2016-06-20, 2017-03-15, 2016-11-14, 2017-08-30, 2017-03-26, 2014-03-19, 2015-07-06, 2016-10-11, 2015-06-08, 2015-12-23, 2015-10-01, 2016-04-30, 2017-09-14, 2017-05-01, 2015-09-27, 2017-01-10, 2016-10-09, 2014-12-27, 2013-03-31, 2017-02-12, 2015-05-19, 2015-02-15, 2016-05-19, 2017-09-01, 2016-10-10, 2016-12-27, 2017-02-25, 2016-01-05, 2016-09-18, 2017-04-04, 2015-11-23, 2016-07-04, 2014-08-08, 2017-01-04, 2015-08-13, 2015-08-24, 2015-08-30, 2017-05-19, 2016-04-24, 2015-05-04, 2013-08-09, 2016-06-10, 2016-04-23, 2013-09-11, 2016-03-16, 2017-08-23, 2017-03-28, 2016-05-05, 2017-06-29, 2016-02-15, 2016-08-09, 2013-09-02, 2012-04-28, 2014-04-01, 2016-06-22, 2016-09-06, 2017-01-22, 2016-06-27, 2016-02-20, 2017-03-06, 2015-11-02, 2017-06-16, 2017-05-21, 2017-09-22, 2015-12-10, ...]                                                                                                                                               \nhost_has_profile_pic    [t, nan, f]                                                                                                                                                                                                                                                                                                                                                                                                                                                                                                                                                                                                                                                                                                                                                                                                                                                                                                                                                                                                                                                                                                                                                                                                                                                                                                                                                                                  \nhost_identity_verified  [t, f, nan]                                                                                                                                                                                                                                                                                                                                                                                                                                                                                                                                                                                                                                                                                                                                                                                                                                                                                                                                                                                                                                                                                                                                                                                                                                                                                                                                                                                  \nhost_response_rate      [nan, 100%, 71%, 68%, 67%, 83%, 50%, 90%, 86%, 92%, 82%, 80%, 89%, 93%, 99%, 0%, 88%, 96%, 70%, 94%, 91%, 25%, 95%, 98%, 62%, 29%, 33%, 81%, 63%, 38%, 60%, 79%, 78%, 75%, 65%, 97%, 87%, 40%, 54%, 53%, 58%, 76%, 30%, 64%, 17%, 20%, 77%, 73%, 41%, 59%, 57%, 85%, 56%, 42%, 44%, 35%, 14%, 74%, 27%, 10%, 84%, 6%, 72%, 36%, 55%, 43%, 13%, 39%, 46%, 26%, 61%, 52%, 23%, 22%, 69%, 66%, 15%, 11%, 31%, 21%, 47%]                                                                                                                                                                                                                                                                                                                                                                                                                                                                                                                                                                                                                                                                                                                                                                                                                                                                                                                                                                         \nhost_since              [2012-03-26, 2017-06-19, 2016-10-25, 2015-04-19, 2015-03-01, 2017-06-07, 2017-03-03, 2013-05-18, 2015-06-04, 2017-03-12, 2013-03-27, 2015-06-11, 2016-05-10, 2012-10-12, 2012-11-20, 2012-09-10, 2016-07-29, 2014-07-27, 2015-08-17, 2017-05-09, 2016-01-11, 2014-08-27, 2014-11-28, 2012-07-12, 2015-05-19, 2017-01-10, 2013-06-20, 2016-05-25, 2015-09-26, 2016-03-06, 2014-01-06, 2017-03-18, 2011-10-07, 2011-04-01, 2016-10-24, 2012-08-07, 2013-12-26, 2013-11-19, 2011-01-06, 2013-06-16, 2016-07-17, 2016-09-17, 2015-07-13, 2014-08-24, 2017-02-13, 2015-05-13, 2014-11-06, 2013-12-08, 2013-08-13, 2016-02-18, 2014-02-27, 2015-09-23, 2012-04-18, 2013-07-29, 2012-08-08, 2015-05-12, 2013-03-02, 2013-06-17, 2013-04-18, 2016-06-06, 2015-01-25, 2015-05-03, 2014-09-08, 2015-08-29, 2014-04-06, 2014-08-11, 2017-09-22, 2016-11-27, 2014-12-06, 2014-03-10, 2014-10-17, 2016-01-20, 2010-03-13, 2014-12-19, 2016-05-02, 2013-03-07, 2014-03-22, 2013-11-29, 2015-03-26, 2015-07-21, 2012-08-09, 2012-03-08, 2014-08-21, 2012-07-31, 2013-11-12, 2016-06-29, 2012-05-18, 2017-01-05, 2013-11-05, 2015-10-12, 2015-07-28, 2015-03-15, nan, 2015-01-22, 2012-04-12, 2017-01-03, 2014-11-25, 2012-04-25, 2014-04-14, 2015-03-14, ...]                                                                                                                                               \ninstant_bookable        [f, t]                                                                                                                                                                                                                                                                                                                                                                                                                                                                                                                                                                                                                                                                                                                                                                                                                                                                                                                                                                                                                                                                                                                                                                                                                                                                                                                                                                                       \nlast_review             [2016-07-18, 2017-09-23, 2017-09-14, nan, 2017-01-22, 2017-09-05, 2017-04-21, 2017-04-12, 2017-09-24, 2017-04-16, 2016-11-15, 2016-11-18, 2017-04-30, 2017-04-06, 2016-10-16, 2017-02-07, 2016-12-12, 2017-09-15, 2017-02-08, 2017-09-22, 2017-04-25, 2015-03-14, 2016-07-17, 2017-09-10, 2016-08-03, 2017-08-17, 2017-01-01, 2017-04-18, 2016-11-16, 2017-04-05, 2017-09-28, 2015-07-26, 2017-09-17, 2017-04-14, 2017-04-19, 2017-03-15, 2016-11-14, 2017-08-30, 2017-09-26, 2015-11-23, 2017-04-24, 2015-06-08, 2016-10-09, 2017-10-02, 2017-03-26, 2017-05-01, 2017-04-29, 2017-04-20, 2017-01-02, 2015-08-20, 2017-06-17, 2017-03-19, 2017-06-11, 2016-07-26, 2017-09-01, 2017-09-25, 2017-02-11, 2017-04-02, 2016-01-05, 2017-08-14, 2017-04-04, 2016-11-21, 2017-09-29, 2016-11-20, 2017-08-06, 2017-01-03, 2017-03-03, 2015-08-30, 2017-05-02, 2016-08-27, 2017-09-18, 2017-08-22, 2016-02-12, 2016-04-05, 2017-09-20, 2017-03-28, 2017-09-03, 2017-10-01, 2016-08-17, 2017-07-30, 2017-08-13, 2016-06-22, 2017-09-27, 2017-04-23, 2016-11-30, 2016-10-22, 2016-09-20, 2017-06-16, 2017-05-27, 2017-04-28, 2017-07-05, 2017-02-17, 2016-08-31, 2017-08-11, 2016-07-25, 2017-09-09, 2017-07-28, 2017-06-10, 2017-07-12, 2016-11-05, ...]                                                                                                                                               \nneighbourhood           [Brooklyn Heights, Hell's Kitchen, Harlem, Lower Haight, Columbia Heights, Noe Valley, nan, Downtown, Richmond District, Alphabet City, Hermosa Beach, Torrance, U Street Corridor, Humboldt Park, Wicker Park, South Boston, Lower East Side, Flatbush, Sherman Oaks, East Flatbush, Valley Glen, Dupont Circle, Jamaica, Forest Hills, Murray Hill, Lefferts Garden, Mid-Wilshire, Venice, West Hollywood, Brownsville, Williamsburg, East Village, South Loop/Printers Row, Westlake, Hollywood Hills, Upper East Side, Bushwick, Bedford-Stuyvesant, Pilsen, Chelsea, Sunnyside, Greenwich Village, Washington Heights, Pasadena, Potrero Hill, Brookland, Los Feliz, Hollywood, Midtown East, Glendale, Park Slope, Arcadia, West Village, Astoria, Portola, Burbank, East Harlem, Silver Lake, Hillbrook, Shaw, Hillcrest, Morningside Heights, Tribeca, Studio City, Western Addition/NOPA, Echo Park, Financial District, Lakeview, Gramercy Park, Mission District, Kingman Park, Sunset Park, Upper West Side, Greenpoint, Highland Park, Cleveland Park, Prospect Heights, Glover Park, Gravesend, Jamaica Plain, Beacon Hill, SoMa, Flushing, Van Nuys, Del Rey, Midtown, Soho, Mission Hill, Roosevelt Island, Marina Del Rey, West Roxbury, Streeterville, Bernal Heights, Soundview, North Beach, Belmont Cragin, Crown Heights, Gowanus, Boerum Hill, Greenwood Heights, ...]",
      "text/html": "<div>\n<style scoped>\n    .dataframe tbody tr th:only-of-type {\n        vertical-align: middle;\n    }\n\n    .dataframe tbody tr th {\n        vertical-align: top;\n    }\n\n    .dataframe thead th {\n        text-align: right;\n    }\n</style>\n<table border=\"1\" class=\"dataframe\">\n  <thead>\n    <tr style=\"text-align: right;\">\n      <th></th>\n      <th>unique</th>\n    </tr>\n  </thead>\n  <tbody>\n    <tr>\n      <th>property_type</th>\n      <td>[Apartment, House, Condominium, Loft, Townhouse, Hostel, Guest suite, Bed &amp; Breakfast, Bungalow, Guesthouse, Dorm, Other, Camper/RV, Villa, Boutique hotel, Timeshare, In-law, Boat, Serviced apartment, Castle, Cabin, Treehouse, Tipi, Vacation home, Tent, Hut, Casa particular, Chalet, Yurt, Earth House, Parking Space, Train, Cave, Lighthouse, Island]</td>\n    </tr>\n    <tr>\n      <th>room_type</th>\n      <td>[Entire home/apt, Private room, Shared room]</td>\n    </tr>\n    <tr>\n      <th>bed_type</th>\n      <td>[Real Bed, Futon, Pull-out Sofa, Couch, Airbed]</td>\n    </tr>\n    <tr>\n      <th>cancellation_policy</th>\n      <td>[strict, moderate, flexible, super_strict_30, super_strict_60]</td>\n    </tr>\n    <tr>\n      <th>city</th>\n      <td>[NYC, SF, DC, LA, Chicago, Boston]</td>\n    </tr>\n    <tr>\n      <th>first_review</th>\n      <td>[2016-06-18, 2017-08-05, 2017-04-30, nan, 2015-05-12, 2017-08-27, 2017-03-10, 2016-12-16, 2016-02-13, 2017-04-03, 2013-04-28, 2015-07-02, 2017-02-18, 2017-03-25, 2016-08-14, 2016-07-16, 2015-09-26, 2017-07-30, 2016-06-26, 2015-10-10, 2016-07-23, 2014-10-20, 2016-07-17, 2017-07-03, 2015-12-30, 2016-03-20, 2017-01-01, 2011-11-26, 2011-05-20, 2017-03-18, 2017-07-07, 2014-03-24, 2017-07-24, 2014-01-03, 2015-08-12, 2016-06-20, 2017-03-15, 2016-11-14, 2017-08-30, 2017-03-26, 2014-03-19, 2015-07-06, 2016-10-11, 2015-06-08, 2015-12-23, 2015-10-01, 2016-04-30, 2017-09-14, 2017-05-01, 2015-09-27, 2017-01-10, 2016-10-09, 2014-12-27, 2013-03-31, 2017-02-12, 2015-05-19, 2015-02-15, 2016-05-19, 2017-09-01, 2016-10-10, 2016-12-27, 2017-02-25, 2016-01-05, 2016-09-18, 2017-04-04, 2015-11-23, 2016-07-04, 2014-08-08, 2017-01-04, 2015-08-13, 2015-08-24, 2015-08-30, 2017-05-19, 2016-04-24, 2015-05-04, 2013-08-09, 2016-06-10, 2016-04-23, 2013-09-11, 2016-03-16, 2017-08-23, 2017-03-28, 2016-05-05, 2017-06-29, 2016-02-15, 2016-08-09, 2013-09-02, 2012-04-28, 2014-04-01, 2016-06-22, 2016-09-06, 2017-01-22, 2016-06-27, 2016-02-20, 2017-03-06, 2015-11-02, 2017-06-16, 2017-05-21, 2017-09-22, 2015-12-10, ...]</td>\n    </tr>\n    <tr>\n      <th>host_has_profile_pic</th>\n      <td>[t, nan, f]</td>\n    </tr>\n    <tr>\n      <th>host_identity_verified</th>\n      <td>[t, f, nan]</td>\n    </tr>\n    <tr>\n      <th>host_response_rate</th>\n      <td>[nan, 100%, 71%, 68%, 67%, 83%, 50%, 90%, 86%, 92%, 82%, 80%, 89%, 93%, 99%, 0%, 88%, 96%, 70%, 94%, 91%, 25%, 95%, 98%, 62%, 29%, 33%, 81%, 63%, 38%, 60%, 79%, 78%, 75%, 65%, 97%, 87%, 40%, 54%, 53%, 58%, 76%, 30%, 64%, 17%, 20%, 77%, 73%, 41%, 59%, 57%, 85%, 56%, 42%, 44%, 35%, 14%, 74%, 27%, 10%, 84%, 6%, 72%, 36%, 55%, 43%, 13%, 39%, 46%, 26%, 61%, 52%, 23%, 22%, 69%, 66%, 15%, 11%, 31%, 21%, 47%]</td>\n    </tr>\n    <tr>\n      <th>host_since</th>\n      <td>[2012-03-26, 2017-06-19, 2016-10-25, 2015-04-19, 2015-03-01, 2017-06-07, 2017-03-03, 2013-05-18, 2015-06-04, 2017-03-12, 2013-03-27, 2015-06-11, 2016-05-10, 2012-10-12, 2012-11-20, 2012-09-10, 2016-07-29, 2014-07-27, 2015-08-17, 2017-05-09, 2016-01-11, 2014-08-27, 2014-11-28, 2012-07-12, 2015-05-19, 2017-01-10, 2013-06-20, 2016-05-25, 2015-09-26, 2016-03-06, 2014-01-06, 2017-03-18, 2011-10-07, 2011-04-01, 2016-10-24, 2012-08-07, 2013-12-26, 2013-11-19, 2011-01-06, 2013-06-16, 2016-07-17, 2016-09-17, 2015-07-13, 2014-08-24, 2017-02-13, 2015-05-13, 2014-11-06, 2013-12-08, 2013-08-13, 2016-02-18, 2014-02-27, 2015-09-23, 2012-04-18, 2013-07-29, 2012-08-08, 2015-05-12, 2013-03-02, 2013-06-17, 2013-04-18, 2016-06-06, 2015-01-25, 2015-05-03, 2014-09-08, 2015-08-29, 2014-04-06, 2014-08-11, 2017-09-22, 2016-11-27, 2014-12-06, 2014-03-10, 2014-10-17, 2016-01-20, 2010-03-13, 2014-12-19, 2016-05-02, 2013-03-07, 2014-03-22, 2013-11-29, 2015-03-26, 2015-07-21, 2012-08-09, 2012-03-08, 2014-08-21, 2012-07-31, 2013-11-12, 2016-06-29, 2012-05-18, 2017-01-05, 2013-11-05, 2015-10-12, 2015-07-28, 2015-03-15, nan, 2015-01-22, 2012-04-12, 2017-01-03, 2014-11-25, 2012-04-25, 2014-04-14, 2015-03-14, ...]</td>\n    </tr>\n    <tr>\n      <th>instant_bookable</th>\n      <td>[f, t]</td>\n    </tr>\n    <tr>\n      <th>last_review</th>\n      <td>[2016-07-18, 2017-09-23, 2017-09-14, nan, 2017-01-22, 2017-09-05, 2017-04-21, 2017-04-12, 2017-09-24, 2017-04-16, 2016-11-15, 2016-11-18, 2017-04-30, 2017-04-06, 2016-10-16, 2017-02-07, 2016-12-12, 2017-09-15, 2017-02-08, 2017-09-22, 2017-04-25, 2015-03-14, 2016-07-17, 2017-09-10, 2016-08-03, 2017-08-17, 2017-01-01, 2017-04-18, 2016-11-16, 2017-04-05, 2017-09-28, 2015-07-26, 2017-09-17, 2017-04-14, 2017-04-19, 2017-03-15, 2016-11-14, 2017-08-30, 2017-09-26, 2015-11-23, 2017-04-24, 2015-06-08, 2016-10-09, 2017-10-02, 2017-03-26, 2017-05-01, 2017-04-29, 2017-04-20, 2017-01-02, 2015-08-20, 2017-06-17, 2017-03-19, 2017-06-11, 2016-07-26, 2017-09-01, 2017-09-25, 2017-02-11, 2017-04-02, 2016-01-05, 2017-08-14, 2017-04-04, 2016-11-21, 2017-09-29, 2016-11-20, 2017-08-06, 2017-01-03, 2017-03-03, 2015-08-30, 2017-05-02, 2016-08-27, 2017-09-18, 2017-08-22, 2016-02-12, 2016-04-05, 2017-09-20, 2017-03-28, 2017-09-03, 2017-10-01, 2016-08-17, 2017-07-30, 2017-08-13, 2016-06-22, 2017-09-27, 2017-04-23, 2016-11-30, 2016-10-22, 2016-09-20, 2017-06-16, 2017-05-27, 2017-04-28, 2017-07-05, 2017-02-17, 2016-08-31, 2017-08-11, 2016-07-25, 2017-09-09, 2017-07-28, 2017-06-10, 2017-07-12, 2016-11-05, ...]</td>\n    </tr>\n    <tr>\n      <th>neighbourhood</th>\n      <td>[Brooklyn Heights, Hell's Kitchen, Harlem, Lower Haight, Columbia Heights, Noe Valley, nan, Downtown, Richmond District, Alphabet City, Hermosa Beach, Torrance, U Street Corridor, Humboldt Park, Wicker Park, South Boston, Lower East Side, Flatbush, Sherman Oaks, East Flatbush, Valley Glen, Dupont Circle, Jamaica, Forest Hills, Murray Hill, Lefferts Garden, Mid-Wilshire, Venice, West Hollywood, Brownsville, Williamsburg, East Village, South Loop/Printers Row, Westlake, Hollywood Hills, Upper East Side, Bushwick, Bedford-Stuyvesant, Pilsen, Chelsea, Sunnyside, Greenwich Village, Washington Heights, Pasadena, Potrero Hill, Brookland, Los Feliz, Hollywood, Midtown East, Glendale, Park Slope, Arcadia, West Village, Astoria, Portola, Burbank, East Harlem, Silver Lake, Hillbrook, Shaw, Hillcrest, Morningside Heights, Tribeca, Studio City, Western Addition/NOPA, Echo Park, Financial District, Lakeview, Gramercy Park, Mission District, Kingman Park, Sunset Park, Upper West Side, Greenpoint, Highland Park, Cleveland Park, Prospect Heights, Glover Park, Gravesend, Jamaica Plain, Beacon Hill, SoMa, Flushing, Van Nuys, Del Rey, Midtown, Soho, Mission Hill, Roosevelt Island, Marina Del Rey, West Roxbury, Streeterville, Bernal Heights, Soundview, North Beach, Belmont Cragin, Crown Heights, Gowanus, Boerum Hill, Greenwood Heights, ...]</td>\n    </tr>\n  </tbody>\n</table>\n</div>"
     },
     "execution_count": 123,
     "metadata": {},
     "output_type": "execute_result"
    }
   ],
   "source": [
    "pd.set_option('display.max_colwidth', 0)\n",
    "data[['property_type','room_type','bed_type','cancellation_policy',\n",
    "      'city','first_review','host_has_profile_pic','host_identity_verified',\n",
    "     'host_response_rate','host_since','instant_bookable','last_review','neighbourhood']].agg(['unique']).transpose()"
   ]
  },
  {
   "cell_type": "code",
   "execution_count": 124,
   "id": "12ed46c4",
   "metadata": {},
   "outputs": [
    {
     "name": "stdout",
     "output_type": "stream",
     "text": [
      "Number of unique amenities values: 67121\n"
     ]
    }
   ],
   "source": [
    "print(\"Number of unique amenities values: \" + str(len(data['amenities'].unique())))"
   ]
  },
  {
   "cell_type": "markdown",
   "id": "37fa96ea",
   "metadata": {},
   "source": [
    "We now understand that some of the object type columns will require a specific treatment. For example, convert to boolean, convert to float, reduce number of categories, deal with dates etc. \n"
   ]
  },
  {
   "cell_type": "code",
   "execution_count": 125,
   "id": "4ff3e362",
   "metadata": {},
   "outputs": [],
   "source": [
    "binary_variables = ['host_has_profile_pic','host_identity_verified','instant_bookable','cleaning_fee']\n",
    "\n",
    "numeric_variables = ['accommodates','beds','bedrooms','bathrooms','host_response_rate','latitude','longitude',\n",
    "                     'number_of_reviews','review_scores_rating']\n",
    "\n",
    "categorical_variables = ['property_type','room_type','bed_type','cancellation_policy','city','neighbourhood']\n",
    "\n",
    "dates_variables = ['host_since','first_review','last_review']\n",
    "\n",
    "# amenities and thumbnail_url are not included since they require speciel treatment that will be implemented\n",
    "# throughout the document."
   ]
  },
  {
   "cell_type": "markdown",
   "id": "e6ec6731",
   "metadata": {},
   "source": [
    "### **Columns with Null Values and their Count:**"
   ]
  },
  {
   "cell_type": "code",
   "execution_count": 126,
   "id": "56260e95",
   "metadata": {},
   "outputs": [
    {
     "data": {
      "text/plain": "bathrooms                 200  \nfirst_review              15864\nhost_has_profile_pic      188  \nhost_identity_verified    188  \nhost_response_rate        18299\nhost_since                188  \nlast_review               15827\nneighbourhood             6872 \nreview_scores_rating      16722\nthumbnail_url             8216 \nzipcode                   966  \nbedrooms                  91   \nbeds                      131  \ndtype: int64"
     },
     "execution_count": 126,
     "metadata": {},
     "output_type": "execute_result"
    }
   ],
   "source": [
    "data[data.columns[data.isnull().any()]].isnull().sum()"
   ]
  },
  {
   "cell_type": "code",
   "execution_count": 127,
   "id": "fa4841eb",
   "metadata": {},
   "outputs": [
    {
     "data": {
      "text/plain": "              accommodates  bathrooms      beds  bedrooms\naccommodates  1.000000      0.505631   0.810800  0.709259\nbathrooms     0.505631      1.000000   0.525590  0.589935\nbeds          0.810800      0.525590   1.000000  0.709415\nbedrooms      0.709259      0.589935   0.709415  1.000000",
      "text/html": "<div>\n<style scoped>\n    .dataframe tbody tr th:only-of-type {\n        vertical-align: middle;\n    }\n\n    .dataframe tbody tr th {\n        vertical-align: top;\n    }\n\n    .dataframe thead th {\n        text-align: right;\n    }\n</style>\n<table border=\"1\" class=\"dataframe\">\n  <thead>\n    <tr style=\"text-align: right;\">\n      <th></th>\n      <th>accommodates</th>\n      <th>bathrooms</th>\n      <th>beds</th>\n      <th>bedrooms</th>\n    </tr>\n  </thead>\n  <tbody>\n    <tr>\n      <th>accommodates</th>\n      <td>1.000000</td>\n      <td>0.505631</td>\n      <td>0.810800</td>\n      <td>0.709259</td>\n    </tr>\n    <tr>\n      <th>bathrooms</th>\n      <td>0.505631</td>\n      <td>1.000000</td>\n      <td>0.525590</td>\n      <td>0.589935</td>\n    </tr>\n    <tr>\n      <th>beds</th>\n      <td>0.810800</td>\n      <td>0.525590</td>\n      <td>1.000000</td>\n      <td>0.709415</td>\n    </tr>\n    <tr>\n      <th>bedrooms</th>\n      <td>0.709259</td>\n      <td>0.589935</td>\n      <td>0.709415</td>\n      <td>1.000000</td>\n    </tr>\n  </tbody>\n</table>\n</div>"
     },
     "execution_count": 127,
     "metadata": {},
     "output_type": "execute_result"
    }
   ],
   "source": [
    "data[['accommodates','bathrooms','beds', 'bedrooms']].corr()"
   ]
  },
  {
   "cell_type": "markdown",
   "id": "2fda86b7",
   "metadata": {},
   "source": [
    "Since accommodates, beds and bedrooms have high correlation and accommodates has no null values, we will drop beds and bedrooms."
   ]
  },
  {
   "cell_type": "code",
   "execution_count": 128,
   "id": "b8562698",
   "metadata": {},
   "outputs": [],
   "source": [
    "columns_to_drop.extend(['beds', 'bedrooms'])\n",
    "numeric_variables.remove('beds')\n",
    "numeric_variables.remove('bedrooms')"
   ]
  },
  {
   "cell_type": "markdown",
   "id": "1a50b5b7",
   "metadata": {},
   "source": [
    "### **Data Distributions**"
   ]
  },
  {
   "cell_type": "markdown",
   "id": "72ad3043",
   "metadata": {},
   "source": [
    " **host_has_profile_pic column ditribution:**"
   ]
  },
  {
   "cell_type": "code",
   "execution_count": 129,
   "id": "15b13eec",
   "metadata": {},
   "outputs": [
    {
     "data": {
      "text/plain": "t    73696\nf    226  \nName: host_has_profile_pic, dtype: int64"
     },
     "execution_count": 129,
     "metadata": {},
     "output_type": "execute_result"
    }
   ],
   "source": [
    "data['host_has_profile_pic'].value_counts()"
   ]
  },
  {
   "cell_type": "markdown",
   "id": "65f1b155",
   "metadata": {},
   "source": [
    "Since less than 1% of the host_has_profile_pic column has False value, we will drop it."
   ]
  },
  {
   "cell_type": "code",
   "execution_count": 130,
   "id": "d4804349",
   "metadata": {},
   "outputs": [],
   "source": [
    "columns_to_drop.append('host_has_profile_pic')\n",
    "binary_variables.remove('host_has_profile_pic')"
   ]
  },
  {
   "cell_type": "markdown",
   "id": "20bf5d7c",
   "metadata": {},
   "source": [
    "**Log price target column ditribution:**"
   ]
  },
  {
   "cell_type": "code",
   "execution_count": 131,
   "id": "deef4042",
   "metadata": {},
   "outputs": [
    {
     "data": {
      "text/plain": "<AxesSubplot:xlabel='log_price', ylabel='Density'>"
     },
     "execution_count": 131,
     "metadata": {},
     "output_type": "execute_result"
    },
    {
     "data": {
      "text/plain": "<Figure size 432x288 with 1 Axes>",
      "image/png": "[encoded data removed]"
     },
     "metadata": {
      "needs_background": "light"
     },
     "output_type": "display_data"
    }
   ],
   "source": [
    "sns.kdeplot(data['log_price'])"
   ]
  },
  {
   "cell_type": "markdown",
   "id": "76c8a355",
   "metadata": {},
   "source": [
    "**Categorical varaiables distribution**"
   ]
  },
  {
   "cell_type": "code",
   "execution_count": 132,
   "id": "79ca8b32",
   "metadata": {},
   "outputs": [
    {
     "data": {
      "text/plain": "<Figure size 1152x864 with 6 Axes>",
      "image/png": "[encoded data removed]"
     },
     "metadata": {
      "needs_background": "light"
     },
     "output_type": "display_data"
    }
   ],
   "source": [
    "fig, axes = plt.subplots(3,2,figsize=(16,12))\n",
    "fig.subplots_adjust(hspace=0.8)\n",
    "\n",
    "#we will create a histogram for each categorical attribute\n",
    "n=len(categorical_variables)\n",
    "num_rows = 2\n",
    "max_bars = 8\n",
    "\n",
    "for i,variable in enumerate(categorical_variables):\n",
    "    #calculate the current place on the grid\n",
    "    r=int(i/num_rows)\n",
    "    c=i%num_rows\n",
    "    \n",
    "    #create the \"value counts\" for the first <max_bars> categories:\n",
    "    u=min(data[variable].nunique(),max_bars)\n",
    "    vc = data[variable].value_counts()[:u]\n",
    "    \n",
    "    # plot a bar chart using Pandas\n",
    "    vc.plot(kind='bar',ax=axes[r,c],title=variable)"
   ]
  },
  {
   "cell_type": "markdown",
   "id": "005bdb33",
   "metadata": {},
   "source": [
    "We notice that there are no prominent neighbourhoods, we would like to check number of unique values:"
   ]
  },
  {
   "cell_type": "code",
   "execution_count": 133,
   "id": "8c76116c",
   "metadata": {},
   "outputs": [
    {
     "data": {
      "text/plain": "620"
     },
     "execution_count": 133,
     "metadata": {},
     "output_type": "execute_result"
    }
   ],
   "source": [
    "len(data['neighbourhood'].unique())"
   ]
  },
  {
   "cell_type": "markdown",
   "id": "7fcd237e",
   "metadata": {},
   "source": [
    "There are too many neighbourhoods with no prominent ones. Since we also have longtitude and latitude - we will drop neighbourhood column."
   ]
  },
  {
   "cell_type": "code",
   "execution_count": 134,
   "id": "b5eeb342",
   "metadata": {},
   "outputs": [],
   "source": [
    "columns_to_drop.append('neighbourhood')\n",
    "categorical_variables.remove('neighbourhood')"
   ]
  },
  {
   "cell_type": "markdown",
   "id": "cd6d38f4",
   "metadata": {},
   "source": [
    "**Date columns distribution**"
   ]
  },
  {
   "cell_type": "code",
   "execution_count": 135,
   "id": "352fd4f9",
   "metadata": {},
   "outputs": [
    {
     "data": {
      "text/plain": "<Figure size 864x288 with 1 Axes>",
      "image/png": "[encoded data removed]"
     },
     "metadata": {
      "needs_background": "light"
     },
     "output_type": "display_data"
    }
   ],
   "source": [
    "years_of_last_review = pd.DataFrame({\n",
    "    'year of last review':pd.to_datetime(data['last_review'], format='%Y-%m-%d', errors='coerce').dt.year.fillna(0)\n",
    "})\n",
    "\n",
    "plt.figure(figsize=(12,4))\n",
    "sns.countplot(x=\"year of last review\", data=years_of_last_review)\n",
    "plt.show()"
   ]
  },
  {
   "cell_type": "markdown",
   "id": "e86e9036",
   "metadata": {},
   "source": [
    "### **Correlations Plots**"
   ]
  },
  {
   "cell_type": "code",
   "execution_count": 136,
   "id": "3e5d5081",
   "metadata": {},
   "outputs": [
    {
     "data": {
      "text/plain": "Text(0.5, 1.0, 'Log Price Distribution Per Accommodates Value')"
     },
     "execution_count": 136,
     "metadata": {},
     "output_type": "execute_result"
    },
    {
     "data": {
      "text/plain": "<Figure size 720x504 with 1 Axes>",
      "image/png": "[encoded data removed]"
     },
     "metadata": {
      "needs_background": "light"
     },
     "output_type": "display_data"
    }
   ],
   "source": [
    "fig = plt.figure(figsize = (10,7))\n",
    "sns.boxplot(x=data['accommodates'], y=data['log_price'])\n",
    "plt.title('Log Price Distribution Per Accommodates Value')"
   ]
  },
  {
   "cell_type": "code",
   "execution_count": 137,
   "id": "b5bdca2e",
   "metadata": {},
   "outputs": [
    {
     "data": {
      "text/plain": "Text(0.5, 1.0, 'Log Price Distribution Per City Value')"
     },
     "execution_count": 137,
     "metadata": {},
     "output_type": "execute_result"
    },
    {
     "data": {
      "text/plain": "<Figure size 720x504 with 1 Axes>",
      "image/png": "[encoded data removed]"
     },
     "metadata": {
      "needs_background": "light"
     },
     "output_type": "display_data"
    }
   ],
   "source": [
    "fig = plt.figure(figsize = (10,7))\n",
    "sns.violinplot(x=data['city'], y=data['log_price'])\n",
    "plt.title('Log Price Distribution Per City Value')"
   ]
  },
  {
   "cell_type": "code",
   "execution_count": 138,
   "id": "d62386de",
   "metadata": {},
   "outputs": [
    {
     "data": {
      "text/plain": "Text(0.5, 1.0, 'Log Price Distribution Per Room Type Value')"
     },
     "execution_count": 138,
     "metadata": {},
     "output_type": "execute_result"
    },
    {
     "data": {
      "text/plain": "<Figure size 720x504 with 1 Axes>",
      "image/png": "[encoded data removed]"
     },
     "metadata": {
      "needs_background": "light"
     },
     "output_type": "display_data"
    }
   ],
   "source": [
    "fig = plt.figure(figsize = (10,7))\n",
    "sns.boxplot(x=data['room_type'], y=data['log_price'])\n",
    "plt.title('Log Price Distribution Per Room Type Value')"
   ]
  },
  {
   "cell_type": "code",
   "execution_count": 139,
   "id": "5d00ebd4",
   "metadata": {},
   "outputs": [
    {
     "name": "stderr",
     "output_type": "stream",
     "text": [
      "`distplot` is a deprecated function and will be removed in a future version. Please adapt your code to use either `displot` (a figure-level function with similar flexibility) or `histplot` (an axes-level function for histograms).\n",
      "`distplot` is a deprecated function and will be removed in a future version. Please adapt your code to use either `displot` (a figure-level function with similar flexibility) or `histplot` (an axes-level function for histograms).\n"
     ]
    },
    {
     "data": {
      "text/plain": "<matplotlib.legend.Legend at 0x21faae74c08>"
     },
     "execution_count": 139,
     "metadata": {},
     "output_type": "execute_result"
    },
    {
     "data": {
      "text/plain": "<Figure size 432x288 with 1 Axes>",
      "image/png": "[encoded data removed]"
     },
     "metadata": {
      "needs_background": "light"
     },
     "output_type": "display_data"
    }
   ],
   "source": [
    "fig,ax=plt.subplots()\n",
    "\n",
    "reviewScoreLow = data[data['review_scores_rating'] <= 50]\n",
    "reviewScoreHigh = data[data['review_scores_rating'] > 50]\n",
    "\n",
    "sns.distplot(reviewScoreLow.log_price, bins = 25, kde = True, label = \"review score <=50\",ax=ax)\n",
    "sns.distplot(reviewScoreHigh.log_price, bins = 25, kde = True, label = \"review score >50\",ax=ax)\n",
    "\n",
    "\n",
    "plt.title('Hige-Low Rating Score Histogram of log price')\n",
    "plt.xlabel('log_price')\n",
    "plt.ylabel('Count')\n",
    "plt.legend(loc=\"upper right\")"
   ]
  },
  {
   "cell_type": "markdown",
   "id": "1e50dab7",
   "metadata": {},
   "source": [
    "## 2. Data Cleaning and Feature Engeeniring "
   ]
  },
  {
   "cell_type": "markdown",
   "id": "7053cf15",
   "metadata": {},
   "source": [
    "#### This section includes: handling of special columns, droping of unnecessary columns, handling of null values, one-hot encoding for categorial columns, type convertion and columns equalization."
   ]
  },
  {
   "cell_type": "markdown",
   "id": "37d07668",
   "metadata": {},
   "source": [
    "### Handling thumbnail_url Column"
   ]
  },
  {
   "cell_type": "markdown",
   "id": "fd1d54f9",
   "metadata": {},
   "source": [
    "We converted the thumbnail_url column (which contained a link to the property image) into two new columns we prepared ahead on a seperate code (attached in the submission folder):\n",
    "1. brightness - a numeric value of the brightness of the image\n",
    "2. images_tags - we passed the images into an existing model that base on InceptionV3 model - the model can be found on the link: https://github.com/moe18/Image-Based-Airbnb-Pricing-Algorithm.git\n",
    "to predict a property price by image. The model predict house price by image - we add this prediction as a new feature instead of thumbnail_url."
   ]
  },
  {
   "cell_type": "code",
   "execution_count": 140,
   "id": "ff2ebf66",
   "metadata": {},
   "outputs": [],
   "source": [
    "brightness = pd.read_csv('dataset/brightness.csv')['brightness']\n",
    "data['brightness'] = brightness\n",
    "\n",
    "images_tags = pd.read_csv('dataset/price_by_model.csv')['price_by_model']\n",
    "data['images_tags'] = images_tags"
   ]
  },
  {
   "cell_type": "code",
   "execution_count": 141,
   "id": "31a0088e",
   "metadata": {},
   "outputs": [],
   "source": [
    "columns_to_drop.append('thumbnail_url')\n",
    "numeric_variables.extend(['brightness','images_tags'])"
   ]
  },
  {
   "cell_type": "markdown",
   "id": "b9f65fbc",
   "metadata": {},
   "source": [
    "### Handling Dates Columns"
   ]
  },
  {
   "cell_type": "markdown",
   "id": "c68b7a22",
   "metadata": {},
   "source": [
    "We would like to convert the dates columns into a numeric columns with a float that represent number of years until today's date."
   ]
  },
  {
   "cell_type": "code",
   "execution_count": 142,
   "id": "9c5ea403",
   "metadata": {},
   "outputs": [
    {
     "ename": "NameError",
     "evalue": "name 'convert_date_to_years_since' is not defined",
     "output_type": "error",
     "traceback": [
      "\u001B[1;31m---------------------------------------------------------------------------\u001B[0m",
      "\u001B[1;31mNameError\u001B[0m                                 Traceback (most recent call last)",
      "\u001B[1;32m~\\AppData\\Local\\Temp\\ipykernel_23300\\1498347588.py\u001B[0m in \u001B[0;36m<module>\u001B[1;34m\u001B[0m\n\u001B[1;32m----> 1\u001B[1;33m \u001B[0mdata\u001B[0m \u001B[1;33m=\u001B[0m \u001B[0mconvert_date_to_years_since\u001B[0m\u001B[1;33m(\u001B[0m\u001B[0mdata\u001B[0m\u001B[1;33m,\u001B[0m \u001B[0mdates_variables\u001B[0m\u001B[1;33m)\u001B[0m\u001B[1;33m\u001B[0m\u001B[1;33m\u001B[0m\u001B[0m\n\u001B[0m\u001B[0;32m      2\u001B[0m \u001B[0mnumeric_variables\u001B[0m\u001B[1;33m.\u001B[0m\u001B[0mextend\u001B[0m\u001B[1;33m(\u001B[0m\u001B[0mdates_variables\u001B[0m\u001B[1;33m)\u001B[0m\u001B[1;33m\u001B[0m\u001B[1;33m\u001B[0m\u001B[0m\n\u001B[0;32m      3\u001B[0m \u001B[0mdates_variables\u001B[0m \u001B[1;33m=\u001B[0m \u001B[1;33m[\u001B[0m\u001B[1;33m]\u001B[0m\u001B[1;33m\u001B[0m\u001B[1;33m\u001B[0m\u001B[0m\n\u001B[0;32m      4\u001B[0m \u001B[1;33m\u001B[0m\u001B[0m\n",
      "\u001B[1;31mNameError\u001B[0m: name 'convert_date_to_years_since' is not defined"
     ]
    }
   ],
   "source": [
    "data = convert_date_to_years_since(data, dates_variables)\n",
    "numeric_variables.extend(dates_variables)\n",
    "dates_variables = []"
   ]
  },
  {
   "cell_type": "markdown",
   "id": "1a02361f",
   "metadata": {},
   "source": [
    "convertion result example:"
   ]
  },
  {
   "cell_type": "code",
   "execution_count": 143,
   "id": "ab32e419",
   "metadata": {},
   "outputs": [
    {
     "data": {
      "text/plain": "'2016-07-18'"
     },
     "execution_count": 143,
     "metadata": {},
     "output_type": "execute_result"
    }
   ],
   "source": [
    "data['last_review'][0]"
   ]
  },
  {
   "cell_type": "markdown",
   "id": "d3256431",
   "metadata": {},
   "source": [
    "### Handling host_response_rate\n"
   ]
  },
  {
   "cell_type": "markdown",
   "id": "340c9145",
   "metadata": {},
   "source": [
    "Right now the host_response_rate column has the shape of 'n%'. We would like to convert it to floats between 0 to 1."
   ]
  },
  {
   "cell_type": "code",
   "execution_count": 144,
   "id": "b20e6067",
   "metadata": {},
   "outputs": [],
   "source": [
    "data['host_response_rate'] = data['host_response_rate'].str.rstrip('%').astype('float') / 100.0"
   ]
  },
  {
   "cell_type": "markdown",
   "id": "ef2701a4",
   "metadata": {},
   "source": [
    "### Drop Unnecessary Columns"
   ]
  },
  {
   "cell_type": "code",
   "execution_count": 145,
   "id": "2e21ffb1",
   "metadata": {},
   "outputs": [
    {
     "data": {
      "text/plain": "['zipcode',\n 'id',\n 'description',\n 'name',\n 'beds',\n 'bedrooms',\n 'host_has_profile_pic',\n 'neighbourhood',\n 'thumbnail_url']"
     },
     "execution_count": 145,
     "metadata": {},
     "output_type": "execute_result"
    }
   ],
   "source": [
    "columns_to_drop"
   ]
  },
  {
   "cell_type": "code",
   "execution_count": 146,
   "id": "a352b78b",
   "metadata": {},
   "outputs": [],
   "source": [
    "for column in columns_to_drop:\n",
    "    data = data.drop(column, axis=1)"
   ]
  },
  {
   "cell_type": "markdown",
   "id": "2bd4db78",
   "metadata": {},
   "source": [
    "### Train - Test Split"
   ]
  },
  {
   "cell_type": "markdown",
   "id": "0dc1ebd1",
   "metadata": {},
   "source": [
    "For the following operations, in order thr prevent data leak from our test set, we would\n",
    "like to split data into train and test and perform operations on both sets seperatly."
   ]
  },
  {
   "cell_type": "code",
   "execution_count": 155,
   "id": "f7ff5ed2",
   "metadata": {},
   "outputs": [],
   "source": [
    "train, test = train_test_split(data, test_size=0.2)\n",
    "train = train.reset_index()\n",
    "test = test.reset_index()"
   ]
  },
  {
   "cell_type": "markdown",
   "id": "dd428e51",
   "metadata": {},
   "source": [
    "### Impute Missing Values\n"
   ]
  },
  {
   "cell_type": "markdown",
   "source": [
    "replacing zero value with nan at brightness and price_by_model columns"
   ],
   "metadata": {
    "collapsed": false
   }
  },
  {
   "cell_type": "code",
   "execution_count": 158,
   "id": "9f4c4831",
   "metadata": {},
   "outputs": [],
   "source": [
    "cols = ['brightness', 'images_tags']\n",
    "train[cols] = train[cols].replace({'0': np.nan, 0: np.nan})\n",
    "\n"
   ]
  },
  {
   "cell_type": "code",
   "execution_count": 159,
   "outputs": [
    {
     "data": {
      "text/plain": "bathrooms                 149  \nfirst_review              12635\nhost_identity_verified    144  \nhost_response_rate        14591\nhost_since                144  \nlast_review               12603\nreview_scores_rating      13326\nbrightness                6704 \nimages_tags               6742 \ndtype: int64"
     },
     "execution_count": 159,
     "metadata": {},
     "output_type": "execute_result"
    }
   ],
   "source": [
    "train[train.columns[train.isnull().any()]].isnull().sum()\n"
   ],
   "metadata": {
    "collapsed": false,
    "pycharm": {
     "name": "#%%\n"
    }
   }
  },
  {
   "cell_type": "markdown",
   "id": "28a290a9",
   "metadata": {},
   "source": [
    "For all the above columns (and test's null columns) we will impute missing values with most frequent. We would like to denpte that we tried other methods as well."
   ]
  },
  {
   "cell_type": "code",
   "execution_count": 151,
   "id": "de0dc385",
   "metadata": {},
   "outputs": [
    {
     "ename": "TypeError",
     "evalue": "imputing_with_most_frequent() missing 2 required positional arguments: 'test' and 'null_columns'",
     "output_type": "error",
     "traceback": [
      "\u001B[1;31m---------------------------------------------------------------------------\u001B[0m",
      "\u001B[1;31mTypeError\u001B[0m                                 Traceback (most recent call last)",
      "\u001B[1;32m~\\AppData\\Local\\Temp\\ipykernel_23300\\1308542995.py\u001B[0m in \u001B[0;36m<module>\u001B[1;34m\u001B[0m\n\u001B[0;32m      1\u001B[0m \u001B[1;31m# train, test = impute_with_most_frequent(train,test)\u001B[0m\u001B[1;33m\u001B[0m\u001B[1;33m\u001B[0m\u001B[1;33m\u001B[0m\u001B[0m\n\u001B[1;32m----> 2\u001B[1;33m \u001B[0mtrain\u001B[0m \u001B[1;33m=\u001B[0m \u001B[0mimputing_with_most_frequent\u001B[0m\u001B[1;33m(\u001B[0m\u001B[0mtrain\u001B[0m\u001B[1;33m)\u001B[0m\u001B[1;33m\u001B[0m\u001B[1;33m\u001B[0m\u001B[0m\n\u001B[0m\u001B[0;32m      3\u001B[0m \u001B[1;33m\u001B[0m\u001B[0m\n\u001B[0;32m      4\u001B[0m \u001B[1;33m\u001B[0m\u001B[0m\n",
      "\u001B[1;31mTypeError\u001B[0m: imputing_with_most_frequent() missing 2 required positional arguments: 'test' and 'null_columns'"
     ]
    }
   ],
   "source": [
    "train, test = impute_with_most_frequent(train,test)\n"
   ]
  },
  {
   "cell_type": "markdown",
   "id": "ecbf34d9",
   "metadata": {},
   "source": [
    "### Handling amenities Column"
   ]
  },
  {
   "cell_type": "markdown",
   "id": "bfe76fb3",
   "metadata": {},
   "source": [
    "Right now the amenitis column is a string column where each string describe a list of amenities of the property. The Data has around 60,000 different unique values. \n",
    "We will read those string, collect all the amenities and create boolean column for the top 50 amenities in the train data."
   ]
  },
  {
   "cell_type": "code",
   "execution_count": null,
   "id": "3280c6e1",
   "metadata": {},
   "outputs": [],
   "source": [
    "train, test = convert_amenities_col(train, test, binary_variables)"
   ]
  },
  {
   "cell_type": "markdown",
   "id": "ce8f6131",
   "metadata": {},
   "source": [
    "### Types Conversion"
   ]
  },
  {
   "cell_type": "code",
   "execution_count": null,
   "id": "d43a92be",
   "metadata": {},
   "outputs": [],
   "source": [
    "for variable in categorical_variables:\n",
    "    train[variable] = train[variable].astype(\"category\")\n",
    "    test[variable] = test[variable].astype(\"category\")\n",
    "    \n",
    "for variable in numeric_variables:\n",
    "    train[variable] = train[variable].astype(float)\n",
    "    test[variable] = test[variable].astype(float)\n",
    "    \n",
    "for column in binary_variables:\n",
    "    train[column] = train[column].apply(lambda x: 1 if x == 'TRUE' or x == 't' else 0)\n",
    "    test[column] = test[column].apply(lambda x: 1 if x == 'TRUE' or x == 't' else 0)"
   ]
  },
  {
   "cell_type": "markdown",
   "id": "36961bcc",
   "metadata": {},
   "source": [
    "### One-Hot Encoding of Categorical_Variables"
   ]
  },
  {
   "cell_type": "code",
   "execution_count": null,
   "id": "e95589cd",
   "metadata": {},
   "outputs": [],
   "source": [
    "for variable in categorical_variables:\n",
    "    onehot_train_col = pd.get_dummies(train[variable], prefix=variable)\n",
    "    train =  pd.concat([train, onehot_train_col], axis=1)\n",
    "    train = train.drop(variable, axis=1)\n",
    "    \n",
    "    onehot_test_col = pd.get_dummies(test[variable], prefix=variable)\n",
    "    test =  pd.concat([test, onehot_test_col], axis=1)\n",
    "    test = test.drop(variable, axis=1)"
   ]
  },
  {
   "cell_type": "markdown",
   "id": "6d728c23",
   "metadata": {},
   "source": [
    "### Equalize Columns"
   ]
  },
  {
   "cell_type": "code",
   "execution_count": null,
   "id": "c68cc079",
   "metadata": {},
   "outputs": [],
   "source": [
    "add_to_test = list(set(train.columns) - set(test.columns))\n",
    "add_to_train = list(set(test.columns) - set(train.columns))\n",
    "for col in add_to_train:\n",
    "    train[col] = 0\n",
    "for col in add_to_test:\n",
    "    test[col] = 0\n",
    "\n",
    "test = test[train.columns]"
   ]
  },
  {
   "cell_type": "code",
   "execution_count": null,
   "id": "b7296756",
   "metadata": {},
   "outputs": [],
   "source": [
    "train.shape"
   ]
  },
  {
   "cell_type": "code",
   "execution_count": null,
   "id": "ca3482c4",
   "metadata": {},
   "outputs": [],
   "source": [
    "test.shape"
   ]
  },
  {
   "cell_type": "markdown",
   "id": "ef710c7b",
   "metadata": {},
   "source": [
    "## 3. Model Training, Prediction and Evaluation"
   ]
  },
  {
   "cell_type": "code",
   "execution_count": null,
   "id": "c34622e1",
   "metadata": {},
   "outputs": [],
   "source": [
    "train_y = train['log_price'].values\n",
    "train_x = train.drop('log_price', axis=1)\n",
    "\n",
    "test_y = test['log_price'].values\n",
    "test_x = test.drop('log_price', axis=1)\n",
    "\n",
    "xgb_r = xg.XGBRegressor()\n",
    "\n",
    "# Fitting the model\n",
    "xgb_r.fit(train_x, train_y)\n",
    " \n",
    "# Predict the model\n",
    "prediction_test = xgb_r.predict(test_x)\n",
    "\n",
    "# Evaluate the model\n",
    "print(\"Mean Absolute Error (Σ|y-pred|/n):\", \"{:,.3f}\".format(mean_absolute_error(test_y, prediction_test)))\n",
    "print(\"Mean Squared Error (Σ(|y-pred|/y)/n):\",\n",
    "      \"{:,.3f}\".format(mean_squared_error(test_y, prediction_test)))\n",
    "print(\"Root Mean Squared Error (sqrt(Σ(y-pred)^2/n)):\", \"{:,.3f}\".\n",
    "      format(np.sqrt(mean_squared_error(test_y, prediction_test))))\n",
    "print(\"r2 score:\", \"{:,.3f}\".format(r2_score(test_y, prediction_test)))"
   ]
  },
  {
   "cell_type": "markdown",
   "id": "a016c7bf",
   "metadata": {},
   "source": [
    "We would like to denote that we also tried to pedict log price price per acommodates but it did not improve results."
   ]
  },
  {
   "cell_type": "markdown",
   "id": "71be8646",
   "metadata": {},
   "source": [
    "## 4. Model Investigation and Error Analysis"
   ]
  },
  {
   "cell_type": "markdown",
   "id": "129d2a0e",
   "metadata": {},
   "source": [
    "### Residuals"
   ]
  },
  {
   "cell_type": "code",
   "execution_count": null,
   "id": "c2a024e2",
   "metadata": {},
   "outputs": [],
   "source": [
    "fig, ax = plt.subplots(figsize=(8,5))\n",
    "sns.scatterplot(x=prediction_test,y=test_y,ax=ax)\n",
    "sns.lineplot(x=prediction_test,y=prediction_test,ax=ax,color='black')\n",
    "plt.title('Residuals')\n",
    "plt.xlabel('Prediction')\n",
    "plt.ylabel('Tags')"
   ]
  },
  {
   "cell_type": "markdown",
   "id": "25505902",
   "metadata": {},
   "source": [
    "The residuals graph shows quite good results of the model. We do observe some pattern of large residuals for the higher and lower tags."
   ]
  },
  {
   "cell_type": "code",
   "execution_count": null,
   "id": "f997decd",
   "metadata": {},
   "outputs": [],
   "source": [
    "residuals = test_y - prediction_test\n",
    "residuals_for_kde = pd.DataFrame(residuals)\n",
    "sns.kdeplot(residuals_for_kde[0])"
   ]
  },
  {
   "cell_type": "markdown",
   "id": "db4db425",
   "metadata": {},
   "source": [
    "The residuals are normaly distributed around 0 as expected."
   ]
  },
  {
   "cell_type": "markdown",
   "id": "90fd6b44",
   "metadata": {},
   "source": [
    "####  max over estimated and max under estimated"
   ]
  },
  {
   "cell_type": "code",
   "execution_count": null,
   "id": "c0707b66",
   "metadata": {},
   "outputs": [],
   "source": [
    "max_over_estimated = abs(min(residuals))\n",
    "max_under_estimated = max(residuals)\n",
    "max_over_idx = list(residuals).index(min(residuals))\n",
    "max_under_idx = list(residuals).index(max(residuals))\n",
    "print(\"Max over estimated error (log price):\", \"{:,.0f}\".format(max_over_estimated))\n",
    "print(\"Max under estimated error (log price):\", \"{:,.0f}\".format(max_under_estimated))"
   ]
  },
  {
   "cell_type": "markdown",
   "id": "8b4c7902",
   "metadata": {},
   "source": [
    "### Relative Residuals"
   ]
  },
  {
   "cell_type": "code",
   "execution_count": null,
   "id": "ad775101",
   "metadata": {},
   "outputs": [],
   "source": [
    "rel_res=abs(residuals/test_y)\n",
    "print(f'{int((len(rel_res[rel_res<0.05])/len(rel_res))*100)}% of the test set examples have error less than 5%')\n",
    "print(f'{int((len(rel_res[rel_res<0.1])/len(rel_res))*100)}% of the test set examples have error less than 10%')\n",
    "print(f'{int((len(rel_res[rel_res>0.2])/len(rel_res))*100)}% of the test set examples have error greater than 20%')\n"
   ]
  },
  {
   "cell_type": "markdown",
   "id": "d8eb4e81",
   "metadata": {},
   "source": [
    "We should be reminded that we predicted the log price, we would like to analyse the predictions on the actual prices"
   ]
  },
  {
   "cell_type": "markdown",
   "id": "fbb7440a",
   "metadata": {},
   "source": [
    "### Actual Price Residuals"
   ]
  },
  {
   "cell_type": "code",
   "execution_count": null,
   "id": "3b457d81",
   "metadata": {},
   "outputs": [],
   "source": [
    "fig, ax = plt.subplots(figsize=(8,5))\n",
    "sns.scatterplot(x=np.exp(prediction_test),y=np.exp(test_y),ax=ax)\n",
    "sns.lineplot(x=prediction_test,y=prediction_test,ax=ax,color='black')\n",
    "plt.title('Residuals')\n",
    "plt.xlabel('Prediction')\n",
    "plt.ylabel('Tags')\n",
    "plt.locator_params(axis='x', nbins=5)\n",
    "plt.locator_params(axis='y', nbins=5)"
   ]
  },
  {
   "cell_type": "markdown",
   "id": "0223c5c4",
   "metadata": {},
   "source": [
    "In this case the residuals graphs looks weakr, especialy for the higher tags. "
   ]
  },
  {
   "cell_type": "code",
   "execution_count": null,
   "id": "25dcf5e4",
   "metadata": {},
   "outputs": [],
   "source": [
    "actual_res = np.exp(test_y) - np.exp(prediction_test)\n",
    "actual_res_for_kde = pd.DataFrame(actual_res)\n",
    "sns.kdeplot(actual_res_for_kde[0])"
   ]
  },
  {
   "cell_type": "markdown",
   "id": "1f0b21dd",
   "metadata": {},
   "source": [
    "### Actual Price Relative Residuals"
   ]
  },
  {
   "cell_type": "code",
   "execution_count": null,
   "id": "0c91eb88",
   "metadata": {},
   "outputs": [],
   "source": [
    "act_rel_res = abs(actual_res/np.exp(test_y))\n",
    "print(f'{int((len(act_rel_res[act_rel_res<0.05])/len(act_rel_res))*100)}% of the test set examples have error less than 5%')\n",
    "print(f'{int((len(act_rel_res[act_rel_res<0.1])/len(act_rel_res))*100)}% of the test set examples have error less than 10%')\n",
    "print(f'{int((len(act_rel_res[act_rel_res>0.2])/len(act_rel_res))*100)}% of the test set examples have error greater than 20%')"
   ]
  },
  {
   "cell_type": "markdown",
   "id": "e6ebd2f2",
   "metadata": {},
   "source": [
    "The actual situation is worse. We should remember that relativley small error between log values may be greater when converting to real numbers."
   ]
  },
  {
   "cell_type": "markdown",
   "id": "0c9d653c",
   "metadata": {},
   "source": [
    "###  SHAP Analysis of the Test Examples"
   ]
  },
  {
   "cell_type": "code",
   "execution_count": null,
   "id": "14d1b9a6",
   "metadata": {},
   "outputs": [],
   "source": [
    "explainer = shap.TreeExplainer(xgb_r, train_x)\n",
    "shap_values = explainer(test_x)\n",
    "shap.plots.beeswarm(shap_values)"
   ]
  },
  {
   "cell_type": "markdown",
   "id": "e5ba824a",
   "metadata": {},
   "source": [
    "We note two interesting points.   \n",
    "First, We see that latitude and longitude have high shap importance scores. This can make sense but still we feel like this interpretability is not intuitive enough. We feel like high scores for high latitude values and low scores for high longitude valuse, as seen above, is too simplified. We would like to thonk of a better way to extract information from these features.  \n",
    "Second, we see that number_of_reviews is one of the important features and it has negative correlation with the predicted price. It is quite not intuitive, since in the real world we could assume that a property with many reviews colud have charge higher. If so, we can assert that this feature inserts noise into our data and therefore drop it. We must be carfeul with that assertion since the data can hold patterns that we will not think about. For example, it may be that more expensive properties do not have mant guests, therefore they do not have many reviews. Anyway, it will be interesting to test the model without this feature.  \n",
    "It is interesting to check the correlation between log_price column and number_of_reviews:"
   ]
  },
  {
   "cell_type": "code",
   "execution_count": null,
   "id": "4ce1497a",
   "metadata": {},
   "outputs": [],
   "source": [
    "data[['log_price','number_of_reviews']].corr()"
   ]
  },
  {
   "cell_type": "markdown",
   "id": "a06254e6",
   "metadata": {},
   "source": [
    "The correlation is low, it support the assumption that the column inserts some npise into the data."
   ]
  },
  {
   "cell_type": "code",
   "execution_count": null,
   "id": "c5f901d5",
   "metadata": {},
   "outputs": [],
   "source": [
    "shap.dependence_plot('room_type_Entire home/apt', shap_values.values, test_x, show=False)\n",
    "plt.title(\"The Marginal Effect of 'room_type_Entire home/apt' on the Predictions'\\n\")\n",
    "plt.show()"
   ]
  },
  {
   "cell_type": "code",
   "execution_count": null,
   "id": "82dc08b4",
   "metadata": {},
   "outputs": [],
   "source": [
    "shap.dependence_plot('accommodates', shap_values.values, test_x, show=False)\n",
    "plt.title(\"The Marginal Effect of 'accommodates' on the Predictions'\\n\")\n",
    "plt.show()"
   ]
  },
  {
   "cell_type": "code",
   "execution_count": null,
   "id": "3dbeb007",
   "metadata": {},
   "outputs": [],
   "source": [
    "shap.dependence_plot('number_of_reviews', shap_values.values, test_x, show=False)\n",
    "plt.title(\"The Marginal Effect of 'number_of_reviews' on the Predictions'\\n\")\n",
    "plt.show()"
   ]
  },
  {
   "cell_type": "markdown",
   "id": "79d4152e",
   "metadata": {},
   "source": [
    "We observese logical and clear behavior for the 'room_type_Entire home/apt' and 'accommodates'features, but it is not clear what is going on with the 'number_of_reviews' feature.  \n",
    "we see that for small number of reviews we have a range of shao scores and as it goes higher the shap score gores lower. It may have some explanation that we can not think of, but as said before, it is interesting to test the model withput this feature."
   ]
  },
  {
   "cell_type": "code",
   "execution_count": null,
   "id": "8d9ac0a9",
   "metadata": {},
   "outputs": [],
   "source": [
    "shap.plots.bar(shap_values.cohorts(2).abs.mean(0))"
   ]
  },
  {
   "cell_type": "markdown",
   "id": "681140bc",
   "metadata": {},
   "source": [
    "We obsreve that our test data can be splited into two groups: properties with room type- entire room/apt and properties without that feature. In most of the other features there is no major difference for the shap scores of the features. We do see some difference on the bathrooms feature."
   ]
  },
  {
   "cell_type": "markdown",
   "id": "9d8ed10f",
   "metadata": {},
   "source": [
    "SHAP local investigation of some random examples"
   ]
  },
  {
   "cell_type": "code",
   "execution_count": null,
   "id": "e4ff191d",
   "metadata": {},
   "outputs": [],
   "source": [
    "shap.force_plot(explainer.expected_value, shap_values.values[0], test_x.iloc[0])"
   ]
  },
  {
   "cell_type": "code",
   "execution_count": null,
   "id": "c1f6d722",
   "metadata": {},
   "outputs": [],
   "source": [
    "shap.force_plot(explainer.expected_value, shap_values.values[1], test_x.iloc[1])"
   ]
  },
  {
   "cell_type": "markdown",
   "id": "615de6d9",
   "metadata": {},
   "source": [
    "### Over/Under Estimations"
   ]
  },
  {
   "cell_type": "code",
   "execution_count": null,
   "id": "5fbaa9eb",
   "metadata": {},
   "outputs": [],
   "source": [
    "# define rel_res again with no abs to get over/under estimates\n",
    "rel_res=residuals/test_y"
   ]
  },
  {
   "cell_type": "code",
   "execution_count": null,
   "id": "b49bac15",
   "metadata": {},
   "outputs": [],
   "source": [
    "most_over_est_ind = np.where(rel_res==rel_res.min())[0][0]\n",
    "print(\"most over estimated example:\")\n",
    "print(\"example's tag: \" +str(test_y[most_over_est_ind]) + \"example's prediction: \" + str(prediction_test[most_over_est_ind]))"
   ]
  },
  {
   "cell_type": "code",
   "execution_count": null,
   "id": "2410fe8e",
   "metadata": {},
   "outputs": [],
   "source": [
    "most_under_est_ind = np.where(rel_res==rel_res.max())[0][0]\n",
    "print(\"most under estimated example:\")\n",
    "print(\"example's tag: \" +str(test_y[most_under_est_ind])  + \"example's prediction: \" + str(prediction_test[most_under_est_ind]))"
   ]
  },
  {
   "cell_type": "markdown",
   "id": "b0fa2bf9",
   "metadata": {},
   "source": [
    "### SHAP analysis of the most over estimated example"
   ]
  },
  {
   "cell_type": "code",
   "execution_count": null,
   "id": "de1c546a",
   "metadata": {},
   "outputs": [],
   "source": [
    "shap.plots.waterfall(shap_values[most_over_est_ind])"
   ]
  },
  {
   "cell_type": "markdown",
   "id": "45639eb2",
   "metadata": {},
   "source": [
    "### SHAP analysis of the most under estimated example"
   ]
  },
  {
   "cell_type": "code",
   "execution_count": null,
   "id": "ad4216b6",
   "metadata": {},
   "outputs": [],
   "source": [
    "shap.plots.waterfall(shap_values[most_under_est_ind])"
   ]
  },
  {
   "cell_type": "code",
   "execution_count": null,
   "id": "6dd76830",
   "metadata": {},
   "outputs": [],
   "source": [
    "over_estimates = test_x.loc[np.where(rel_res<-0.05)]\n",
    "under_estimates = test_x.loc[np.where(rel_res>0.05)]\n",
    "good_estimates = test_x.loc[np.where(abs(rel_res)<0.05)]"
   ]
  },
  {
   "cell_type": "markdown",
   "id": "980554fd",
   "metadata": {},
   "source": [
    "### SHAP analysis of under estimated examples"
   ]
  },
  {
   "cell_type": "code",
   "execution_count": null,
   "id": "2b9851d9",
   "metadata": {},
   "outputs": [],
   "source": [
    "under_est_shap_values = explainer(under_estimates)\n",
    "shap.plots.beeswarm(under_est_shap_values)"
   ]
  },
  {
   "cell_type": "markdown",
   "id": "877700a4",
   "metadata": {},
   "source": [
    "### Comparison of good and under estimated gropus distribution"
   ]
  },
  {
   "cell_type": "code",
   "execution_count": null,
   "id": "dbfccc88",
   "metadata": {},
   "outputs": [],
   "source": [
    "fig, ax = plt.subplots(figsize=(10,4))\n",
    "good_estimates['room_type_Entire home/apt'].hist(ax=ax,color='blue')\n",
    "under_estimates['room_type_Entire home/apt'].hist(ax=ax,color='red')"
   ]
  },
  {
   "cell_type": "markdown",
   "id": "1ba0264d",
   "metadata": {},
   "source": [
    "### SHAP analysis of over estimated examples"
   ]
  },
  {
   "cell_type": "code",
   "execution_count": null,
   "id": "326bb913",
   "metadata": {},
   "outputs": [],
   "source": [
    "over_est_shap_values = explainer(over_estimates)\n",
    "shap.plots.beeswarm(over_est_shap_values)"
   ]
  },
  {
   "cell_type": "markdown",
   "id": "1f09e0a4",
   "metadata": {},
   "source": [
    "### Comparison of good and over estimated gropus distribution"
   ]
  },
  {
   "cell_type": "code",
   "execution_count": null,
   "id": "024de1af",
   "metadata": {},
   "outputs": [],
   "source": [
    "fig, ax = plt.subplots(figsize=(10,4))\n",
    "good_estimates['longitude'].hist(ax=ax,color='blue')\n",
    "over_estimates['longitude'].hist(ax=ax,color='red')"
   ]
  },
  {
   "cell_type": "markdown",
   "id": "b2290e98",
   "metadata": {},
   "source": [
    "We checked many features distribution comparison (for under and over entimations) and they all showed similars distributions with good estimations."
   ]
  },
  {
   "cell_type": "markdown",
   "id": "54b8b802",
   "metadata": {},
   "source": [
    "We did not find any patterns regarding to under/over estimations.  \n",
    "We did found few examples where at the description column we discovered that the price pffered is for a month rather than a night, that can make an explenation of some under estimated examples. But, we also found many opposite examples, so we can not assert that this is a pattern. It may be that the 'description' column that we droped could have contribute more information, for this case and in general.  \n",
    "It may be that beacause of any other decision that we took while proccessing the data, we did not extract all the information that we could have.  \n",
    "At last, we should remember that the pricing proccess is manual and each property owner can put any price he wants, In addition, we assume that the data was taken from airbnb website where each property owner inserts the property's details by itself and can make mistakes. Therefore another posibilty is that that data is 'dirty'"
   ]
  },
  {
   "cell_type": "markdown",
   "id": "98eab66d",
   "metadata": {},
   "source": [
    "## 5. Conclusions Implementation"
   ]
  },
  {
   "cell_type": "markdown",
   "id": "5b8e19ff",
   "metadata": {},
   "source": [
    "As a conclusion from the analysis section, we would like to try the following changes:\n",
    "1. convert longitude latitude features "
   ]
  },
  {
   "cell_type": "code",
   "execution_count": null,
   "id": "2279fa9c",
   "metadata": {},
   "outputs": [],
   "source": []
  }
 ],
 "metadata": {
  "kernelspec": {
   "display_name": "Python 3 (ipykernel)",
   "language": "python",
   "name": "python3"
  },
  "language_info": {
   "codemirror_mode": {
    "name": "ipython",
    "version": 3
   },
   "file_extension": ".py",
   "mimetype": "text/x-python",
   "name": "python",
   "nbconvert_exporter": "python",
   "pygments_lexer": "ipython3",
   "version": "3.9.7"
  }
 },
 "nbformat": 4,
 "nbformat_minor": 5
}